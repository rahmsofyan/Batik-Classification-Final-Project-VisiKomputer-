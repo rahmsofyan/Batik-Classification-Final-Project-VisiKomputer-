{
 "cells": [
  {
   "cell_type": "code",
   "execution_count": 1,
   "metadata": {},
   "outputs": [
    {
     "name": "stderr",
     "output_type": "stream",
     "text": [
      "Using TensorFlow backend.\n"
     ]
    }
   ],
   "source": [
    "import numpy as np\n",
    "\n",
    "from keras.preprocessing.image import ImageDataGenerator\n",
    "from keras.layers import Input, Activation, Dense, Conv2D, MaxPooling2D, ZeroPadding2D, Flatten ,Dropout\n",
    "from keras.models import Sequential, Model\n",
    "from keras import applications\n",
    "from keras.optimizers import SGD\n",
    "from keras.callbacks import TensorBoard\n",
    "\n",
    "from sklearn.metrics import classification_report, confusion_matrix"
   ]
  },
  {
   "cell_type": "code",
   "execution_count": 2,
   "metadata": {},
   "outputs": [],
   "source": [
    "img_width = 224\n",
    "img_height = 224\n",
    "split = 0.2\n",
    "train_samples = 5000 *(1-split)\n",
    "validation_samples =  5000*split\n",
    "epochs = 50\n",
    "batch_size = 16\n",
    "num_classes = 10\n",
    "\n",
    "dataset = './dataset/training_set'\n",
    "datatest = './dataset/test_set'"
   ]
  },
  {
   "cell_type": "code",
   "execution_count": 8,
   "metadata": {},
   "outputs": [
    {
     "name": "stdout",
     "output_type": "stream",
     "text": [
      "Found 360 images belonging to 10 classes.\n",
      "Found 84 images belonging to 10 classes.\n"
     ]
    }
   ],
   "source": [
    "#Image Augementation train\n",
    "image_generator = ImageDataGenerator(\n",
    "    shear_range=0.05,\n",
    "    rescale=1. / 255,\n",
    "    zoom_range=0.2,\n",
    "    horizontal_flip=True,\n",
    "    vertical_flip=True,\n",
    "    brightness_range=[0.5, 1.5],\n",
    "    validation_split=split,\n",
    "    )\n",
    "\n",
    "train_generator = image_generator.flow_from_directory(\n",
    "    dataset,\n",
    "    target_size=(img_height, img_width),\n",
    "    batch_size=batch_size,\n",
    "    subset=\"training\",\n",
    "    class_mode='categorical')\n",
    "\n",
    "validation_generator = image_generator.flow_from_directory(\n",
    "    dataset,\n",
    "    target_size=(img_height, img_width),\n",
    "    batch_size=batch_size,\n",
    "    class_mode='categorical',\n",
    "    subset=\"validation\")"
   ]
  },
  {
   "cell_type": "code",
   "execution_count": 4,
   "metadata": {},
   "outputs": [
    {
     "name": "stdout",
     "output_type": "stream",
     "text": [
      "WARNING:tensorflow:From D:\\Anaconda\\envs\\tensorflow\\lib\\site-packages\\keras\\backend\\tensorflow_backend.py:74: The name tf.get_default_graph is deprecated. Please use tf.compat.v1.get_default_graph instead.\n",
      "\n",
      "WARNING:tensorflow:From D:\\Anaconda\\envs\\tensorflow\\lib\\site-packages\\keras\\backend\\tensorflow_backend.py:517: The name tf.placeholder is deprecated. Please use tf.compat.v1.placeholder instead.\n",
      "\n",
      "WARNING:tensorflow:From D:\\Anaconda\\envs\\tensorflow\\lib\\site-packages\\keras\\backend\\tensorflow_backend.py:4138: The name tf.random_uniform is deprecated. Please use tf.random.uniform instead.\n",
      "\n",
      "WARNING:tensorflow:From D:\\Anaconda\\envs\\tensorflow\\lib\\site-packages\\keras\\backend\\tensorflow_backend.py:174: The name tf.get_default_session is deprecated. Please use tf.compat.v1.get_default_session instead.\n",
      "\n",
      "WARNING:tensorflow:From D:\\Anaconda\\envs\\tensorflow\\lib\\site-packages\\keras\\backend\\tensorflow_backend.py:181: The name tf.ConfigProto is deprecated. Please use tf.compat.v1.ConfigProto instead.\n",
      "\n",
      "WARNING:tensorflow:From D:\\Anaconda\\envs\\tensorflow\\lib\\site-packages\\keras\\backend\\tensorflow_backend.py:186: The name tf.Session is deprecated. Please use tf.compat.v1.Session instead.\n",
      "\n",
      "WARNING:tensorflow:From D:\\Anaconda\\envs\\tensorflow\\lib\\site-packages\\keras\\backend\\tensorflow_backend.py:190: The name tf.global_variables is deprecated. Please use tf.compat.v1.global_variables instead.\n",
      "\n",
      "WARNING:tensorflow:From D:\\Anaconda\\envs\\tensorflow\\lib\\site-packages\\keras\\backend\\tensorflow_backend.py:199: The name tf.is_variable_initialized is deprecated. Please use tf.compat.v1.is_variable_initialized instead.\n",
      "\n",
      "WARNING:tensorflow:From D:\\Anaconda\\envs\\tensorflow\\lib\\site-packages\\keras\\backend\\tensorflow_backend.py:206: The name tf.variables_initializer is deprecated. Please use tf.compat.v1.variables_initializer instead.\n",
      "\n",
      "WARNING:tensorflow:From D:\\Anaconda\\envs\\tensorflow\\lib\\site-packages\\keras\\backend\\tensorflow_backend.py:1834: The name tf.nn.fused_batch_norm is deprecated. Please use tf.compat.v1.nn.fused_batch_norm instead.\n",
      "\n",
      "WARNING:tensorflow:From D:\\Anaconda\\envs\\tensorflow\\lib\\site-packages\\keras\\backend\\tensorflow_backend.py:133: The name tf.placeholder_with_default is deprecated. Please use tf.compat.v1.placeholder_with_default instead.\n",
      "\n"
     ]
    }
   ],
   "source": [
    "base_model = applications.mobilenet_v2.MobileNetV2(weights = \"imagenet\",\\\n",
    "                                                   include_top=False, input_shape\\\n",
    "                                                   = (img_width, img_height, 3))"
   ]
  },
  {
   "cell_type": "code",
   "execution_count": 5,
   "metadata": {},
   "outputs": [
    {
     "name": "stdout",
     "output_type": "stream",
     "text": [
      "WARNING:tensorflow:From D:\\Anaconda\\envs\\tensorflow\\lib\\site-packages\\keras\\backend\\tensorflow_backend.py:3445: calling dropout (from tensorflow.python.ops.nn_ops) with keep_prob is deprecated and will be removed in a future version.\n",
      "Instructions for updating:\n",
      "Please use `rate` instead of `keep_prob`. Rate should be set to `rate = 1 - keep_prob`.\n"
     ]
    }
   ],
   "source": [
    "top_model = Flatten(name=\"flatten\")(base_model.output)\n",
    "top_model = Dense(512,activation=\"relu\")(top_model)\n",
    "top_model = Dropout(0.5)(top_model)\n",
    "top_model = Dense(num_classes,activation=\"softmax\")(top_model)"
   ]
  },
  {
   "cell_type": "code",
   "execution_count": 6,
   "metadata": {},
   "outputs": [],
   "source": [
    "for layer in base_model.layers[:19]:\n",
    "    layer.trainable = False\n",
    "    \n",
    "final_model = Model(inputs=base_model.input,outputs=top_model)    "
   ]
  },
  {
   "cell_type": "markdown",
   "metadata": {},
   "source": [
    "### MobileNetV2 training :80% validation 20%"
   ]
  },
  {
   "cell_type": "code",
   "execution_count": 9,
   "metadata": {
    "scrolled": false
   },
   "outputs": [
    {
     "name": "stdout",
     "output_type": "stream",
     "text": [
      "[INFO] compiling model...\n",
      "Epoch 1/50\n",
      "250/250 [==============================] - 99s 396ms/step - loss: 0.0980 - acc: 0.9632 - binary_crossentropy: 0.0980 - val_loss: 0.1366 - val_acc: 0.9483 - val_binary_crossentropy: 0.1366\n",
      "Epoch 2/50\n",
      "250/250 [==============================] - 94s 376ms/step - loss: 0.0895 - acc: 0.9669 - binary_crossentropy: 0.0895 - val_loss: 0.1403 - val_acc: 0.9482 - val_binary_crossentropy: 0.1403\n",
      "Epoch 3/50\n",
      "250/250 [==============================] - 92s 367ms/step - loss: 0.0766 - acc: 0.9711 - binary_crossentropy: 0.0766 - val_loss: 0.1356 - val_acc: 0.9487 - val_binary_crossentropy: 0.1356\n",
      "Epoch 4/50\n",
      "250/250 [==============================] - 92s 370ms/step - loss: 0.0692 - acc: 0.9749 - binary_crossentropy: 0.0692 - val_loss: 0.1392 - val_acc: 0.9485 - val_binary_crossentropy: 0.1392\n",
      "Epoch 5/50\n",
      "250/250 [==============================] - 92s 369ms/step - loss: 0.0687 - acc: 0.9756 - binary_crossentropy: 0.0687 - val_loss: 0.1292 - val_acc: 0.9533 - val_binary_crossentropy: 0.1292\n",
      "Epoch 6/50\n",
      "250/250 [==============================] - 92s 367ms/step - loss: 0.0595 - acc: 0.9782 - binary_crossentropy: 0.0595 - val_loss: 0.1353 - val_acc: 0.9505 - val_binary_crossentropy: 0.1353\n",
      "Epoch 7/50\n",
      "250/250 [==============================] - 92s 367ms/step - loss: 0.0567 - acc: 0.9799 - binary_crossentropy: 0.0567 - val_loss: 0.1208 - val_acc: 0.9536 - val_binary_crossentropy: 0.1208\n",
      "Epoch 8/50\n",
      "250/250 [==============================] - 92s 368ms/step - loss: 0.0539 - acc: 0.9796 - binary_crossentropy: 0.0539 - val_loss: 0.1188 - val_acc: 0.9577 - val_binary_crossentropy: 0.1188\n",
      "Epoch 9/50\n",
      "250/250 [==============================] - 93s 372ms/step - loss: 0.0479 - acc: 0.9818 - binary_crossentropy: 0.0479 - val_loss: 0.1263 - val_acc: 0.9564 - val_binary_crossentropy: 0.1263\n",
      "Epoch 10/50\n",
      "250/250 [==============================] - 92s 368ms/step - loss: 0.0492 - acc: 0.9827 - binary_crossentropy: 0.0492 - val_loss: 0.1281 - val_acc: 0.9550 - val_binary_crossentropy: 0.1281\n",
      "Epoch 11/50\n",
      "250/250 [==============================] - 92s 369ms/step - loss: 0.0407 - acc: 0.9841 - binary_crossentropy: 0.0407 - val_loss: 0.1185 - val_acc: 0.9553 - val_binary_crossentropy: 0.1185\n",
      "Epoch 12/50\n",
      "250/250 [==============================] - 92s 367ms/step - loss: 0.0385 - acc: 0.9855 - binary_crossentropy: 0.0385 - val_loss: 0.1244 - val_acc: 0.9558 - val_binary_crossentropy: 0.1244\n",
      "Epoch 13/50\n",
      "250/250 [==============================] - 92s 368ms/step - loss: 0.0374 - acc: 0.9869 - binary_crossentropy: 0.0374 - val_loss: 0.1240 - val_acc: 0.9561 - val_binary_crossentropy: 0.1240\n",
      "Epoch 14/50\n",
      "250/250 [==============================] - 92s 368ms/step - loss: 0.0356 - acc: 0.9861 - binary_crossentropy: 0.0356 - val_loss: 0.1210 - val_acc: 0.9553 - val_binary_crossentropy: 0.1210\n",
      "Epoch 15/50\n",
      "250/250 [==============================] - 92s 368ms/step - loss: 0.0354 - acc: 0.9865 - binary_crossentropy: 0.0354 - val_loss: 0.1268 - val_acc: 0.9529 - val_binary_crossentropy: 0.1268\n",
      "Epoch 16/50\n",
      "250/250 [==============================] - 92s 369ms/step - loss: 0.0318 - acc: 0.9878 - binary_crossentropy: 0.0318 - val_loss: 0.1333 - val_acc: 0.9549 - val_binary_crossentropy: 0.1333\n",
      "Epoch 17/50\n",
      "250/250 [==============================] - 92s 369ms/step - loss: 0.0345 - acc: 0.9878 - binary_crossentropy: 0.0345 - val_loss: 0.1236 - val_acc: 0.9555 - val_binary_crossentropy: 0.1236\n",
      "Epoch 18/50\n",
      "250/250 [==============================] - 92s 367ms/step - loss: 0.0285 - acc: 0.9890 - binary_crossentropy: 0.0285 - val_loss: 0.1240 - val_acc: 0.9571 - val_binary_crossentropy: 0.1240\n",
      "Epoch 19/50\n",
      "250/250 [==============================] - 92s 367ms/step - loss: 0.0277 - acc: 0.9893 - binary_crossentropy: 0.0277 - val_loss: 0.1234 - val_acc: 0.9597 - val_binary_crossentropy: 0.1234\n",
      "Epoch 20/50\n",
      "250/250 [==============================] - 92s 368ms/step - loss: 0.0273 - acc: 0.9905 - binary_crossentropy: 0.0273 - val_loss: 0.1381 - val_acc: 0.9537 - val_binary_crossentropy: 0.1381\n",
      "Epoch 21/50\n",
      "250/250 [==============================] - 92s 370ms/step - loss: 0.0271 - acc: 0.9908 - binary_crossentropy: 0.0271 - val_loss: 0.1259 - val_acc: 0.9563 - val_binary_crossentropy: 0.1259\n",
      "Epoch 22/50\n",
      "250/250 [==============================] - 92s 368ms/step - loss: 0.0273 - acc: 0.9898 - binary_crossentropy: 0.0273 - val_loss: 0.1295 - val_acc: 0.9544 - val_binary_crossentropy: 0.1295\n",
      "Epoch 23/50\n",
      "250/250 [==============================] - 93s 372ms/step - loss: 0.0230 - acc: 0.9918 - binary_crossentropy: 0.0230 - val_loss: 0.1294 - val_acc: 0.9542 - val_binary_crossentropy: 0.1294\n",
      "Epoch 24/50\n",
      "250/250 [==============================] - 93s 372ms/step - loss: 0.0221 - acc: 0.9924 - binary_crossentropy: 0.0221 - val_loss: 0.1229 - val_acc: 0.9573 - val_binary_crossentropy: 0.1229\n",
      "Epoch 25/50\n",
      "250/250 [==============================] - 92s 369ms/step - loss: 0.0249 - acc: 0.9910 - binary_crossentropy: 0.0249 - val_loss: 0.1255 - val_acc: 0.9552 - val_binary_crossentropy: 0.1255\n",
      "Epoch 26/50\n",
      "250/250 [==============================] - 92s 370ms/step - loss: 0.0235 - acc: 0.9917 - binary_crossentropy: 0.0235 - val_loss: 0.1238 - val_acc: 0.9583 - val_binary_crossentropy: 0.1238\n",
      "Epoch 27/50\n",
      "250/250 [==============================] - 92s 369ms/step - loss: 0.0225 - acc: 0.9919 - binary_crossentropy: 0.0225 - val_loss: 0.1231 - val_acc: 0.9587 - val_binary_crossentropy: 0.1231\n",
      "Epoch 28/50\n",
      "250/250 [==============================] - 93s 371ms/step - loss: 0.0192 - acc: 0.9931 - binary_crossentropy: 0.0192 - val_loss: 0.1188 - val_acc: 0.9576 - val_binary_crossentropy: 0.1188\n",
      "Epoch 29/50\n",
      "250/250 [==============================] - 93s 370ms/step - loss: 0.0196 - acc: 0.9935 - binary_crossentropy: 0.0196 - val_loss: 0.1324 - val_acc: 0.9537 - val_binary_crossentropy: 0.1324\n",
      "Epoch 30/50\n",
      "250/250 [==============================] - 92s 366ms/step - loss: 0.0185 - acc: 0.9932 - binary_crossentropy: 0.0185 - val_loss: 0.1311 - val_acc: 0.9556 - val_binary_crossentropy: 0.1311\n",
      "Epoch 31/50\n",
      "250/250 [==============================] - 93s 370ms/step - loss: 0.0202 - acc: 0.9924 - binary_crossentropy: 0.0202 - val_loss: 0.1282 - val_acc: 0.9569 - val_binary_crossentropy: 0.1282\n",
      "Epoch 32/50\n",
      "250/250 [==============================] - 93s 370ms/step - loss: 0.0180 - acc: 0.9931 - binary_crossentropy: 0.0180 - val_loss: 0.1270 - val_acc: 0.9599 - val_binary_crossentropy: 0.1270\n",
      "Epoch 33/50\n",
      "250/250 [==============================] - 93s 370ms/step - loss: 0.0189 - acc: 0.9930 - binary_crossentropy: 0.0189 - val_loss: 0.1339 - val_acc: 0.9548 - val_binary_crossentropy: 0.1339\n",
      "Epoch 34/50\n",
      "250/250 [==============================] - 93s 372ms/step - loss: 0.0206 - acc: 0.9921 - binary_crossentropy: 0.0206 - val_loss: 0.1355 - val_acc: 0.9564 - val_binary_crossentropy: 0.1355\n",
      "Epoch 35/50\n",
      "250/250 [==============================] - 92s 370ms/step - loss: 0.0203 - acc: 0.9924 - binary_crossentropy: 0.0203 - val_loss: 0.1271 - val_acc: 0.9581 - val_binary_crossentropy: 0.1271\n",
      "Epoch 36/50\n",
      "250/250 [==============================] - 93s 370ms/step - loss: 0.0198 - acc: 0.9926 - binary_crossentropy: 0.0198 - val_loss: 0.1269 - val_acc: 0.9606 - val_binary_crossentropy: 0.1269\n",
      "Epoch 37/50\n",
      "250/250 [==============================] - 92s 369ms/step - loss: 0.0176 - acc: 0.9932 - binary_crossentropy: 0.0176 - val_loss: 0.1308 - val_acc: 0.9584 - val_binary_crossentropy: 0.1308\n",
      "Epoch 38/50\n",
      "250/250 [==============================] - 93s 372ms/step - loss: 0.0164 - acc: 0.9939 - binary_crossentropy: 0.0164 - val_loss: 0.1361 - val_acc: 0.9556 - val_binary_crossentropy: 0.1361\n",
      "Epoch 39/50\n",
      "250/250 [==============================] - 93s 374ms/step - loss: 0.0178 - acc: 0.9935 - binary_crossentropy: 0.0178 - val_loss: 0.1358 - val_acc: 0.9577 - val_binary_crossentropy: 0.1358\n",
      "Epoch 40/50\n",
      "250/250 [==============================] - 93s 371ms/step - loss: 0.0159 - acc: 0.9940 - binary_crossentropy: 0.0159 - val_loss: 0.1292 - val_acc: 0.9588 - val_binary_crossentropy: 0.1292\n",
      "Epoch 41/50\n",
      "250/250 [==============================] - 93s 370ms/step - loss: 0.0152 - acc: 0.9944 - binary_crossentropy: 0.0152 - val_loss: 0.1321 - val_acc: 0.9586 - val_binary_crossentropy: 0.1321\n"
     ]
    },
    {
     "name": "stdout",
     "output_type": "stream",
     "text": [
      "Epoch 42/50\n",
      "250/250 [==============================] - 92s 370ms/step - loss: 0.0142 - acc: 0.9948 - binary_crossentropy: 0.0142 - val_loss: 0.1242 - val_acc: 0.9585 - val_binary_crossentropy: 0.1242\n",
      "Epoch 43/50\n",
      "250/250 [==============================] - 93s 371ms/step - loss: 0.0148 - acc: 0.9944 - binary_crossentropy: 0.0148 - val_loss: 0.1294 - val_acc: 0.9594 - val_binary_crossentropy: 0.1294\n",
      "Epoch 44/50\n",
      "250/250 [==============================] - 95s 378ms/step - loss: 0.0145 - acc: 0.9945 - binary_crossentropy: 0.0145 - val_loss: 0.1342 - val_acc: 0.9553 - val_binary_crossentropy: 0.1342\n",
      "Epoch 45/50\n",
      "250/250 [==============================] - 92s 369ms/step - loss: 0.0176 - acc: 0.9936 - binary_crossentropy: 0.0176 - val_loss: 0.1325 - val_acc: 0.9594 - val_binary_crossentropy: 0.1325\n",
      "Epoch 46/50\n",
      "250/250 [==============================] - 92s 367ms/step - loss: 0.0160 - acc: 0.9937 - binary_crossentropy: 0.0160 - val_loss: 0.1234 - val_acc: 0.9595 - val_binary_crossentropy: 0.1234\n",
      "Epoch 47/50\n",
      "250/250 [==============================] - 93s 372ms/step - loss: 0.0142 - acc: 0.9950 - binary_crossentropy: 0.0142 - val_loss: 0.1320 - val_acc: 0.9576 - val_binary_crossentropy: 0.1320\n",
      "Epoch 48/50\n",
      "250/250 [==============================] - 95s 379ms/step - loss: 0.0152 - acc: 0.9943 - binary_crossentropy: 0.0152 - val_loss: 0.1273 - val_acc: 0.9585 - val_binary_crossentropy: 0.1273\n",
      "Epoch 49/50\n",
      "250/250 [==============================] - 92s 367ms/step - loss: 0.0138 - acc: 0.9945 - binary_crossentropy: 0.0138 - val_loss: 0.1326 - val_acc: 0.9567 - val_binary_crossentropy: 0.1326\n",
      "Epoch 50/50\n",
      "250/250 [==============================] - 93s 370ms/step - loss: 0.0134 - acc: 0.9952 - binary_crossentropy: 0.0134 - val_loss: 0.1284 - val_acc: 0.9578 - val_binary_crossentropy: 0.1284\n",
      "[INFO] serializing network...\n"
     ]
    }
   ],
   "source": [
    "print(\"[INFO] compiling model...\")\n",
    "opt = SGD(lr=1e-4, momentum=0.9)\n",
    "final_model.compile(loss=\"binary_crossentropy\", optimizer=opt,\n",
    "\tmetrics=[\"accuracy\",\"binary_crossentropy\"])\n",
    "\n",
    "\n",
    "#Model Fitting\n",
    "callbacks = TensorBoard(log_dir='.\\\\Graph\\\\MobileNetV2')\n",
    "H = final_model.fit_generator(\n",
    "\ttrain_generator,\n",
    "\tsteps_per_epoch=train_samples // batch_size,\n",
    "\tvalidation_data=validation_generator,\n",
    "\tvalidation_steps=validation_samples // batch_size,\n",
    "\tepochs=epochs,\n",
    "    callbacks=[callbacks])\n",
    "\n",
    "print(\"[INFO] serializing network...\")\n",
    "final_model.save(\"MobileNetV2.h5\")"
   ]
  },
  {
   "cell_type": "code",
   "execution_count": 20,
   "metadata": {},
   "outputs": [
    {
     "name": "stdout",
     "output_type": "stream",
     "text": [
      "Found 134 images belonging to 10 classes.\n"
     ]
    }
   ],
   "source": [
    "image_test_generator = ImageDataGenerator(rescale=1/255)\n",
    "\n",
    "testing_generator = image_test_generator.flow_from_directory(\n",
    "    datatest,\n",
    "    target_size=(img_height, img_width),\n",
    "    batch_size=batch_size,\n",
    "    class_mode='categorical',\n",
    "    shuffle=False\n",
    "    )"
   ]
  },
  {
   "cell_type": "code",
   "execution_count": 21,
   "metadata": {},
   "outputs": [
    {
     "data": {
      "text/plain": [
       "[0.12629613080131474, 0.9589552167636245, 0.12629613080131474]"
      ]
     },
     "execution_count": 21,
     "metadata": {},
     "output_type": "execute_result"
    }
   ],
   "source": [
    "final_model.evaluate_generator(testing_generator,steps= 134 // batch_size+1,workers=12)\n"
   ]
  },
  {
   "cell_type": "code",
   "execution_count": 22,
   "metadata": {},
   "outputs": [],
   "source": [
    "testing_generator.reset()\n",
    "Y_pred = final_model.predict_generator(testing_generator, 134 // batch_size+1,workers=12)\n"
   ]
  },
  {
   "cell_type": "code",
   "execution_count": 23,
   "metadata": {},
   "outputs": [
    {
     "name": "stdout",
     "output_type": "stream",
     "text": [
      "Confusion Matrix\n",
      "[[12  0  0  0  0  1  1  0  1  0]\n",
      " [ 0 13  0  0  1  0  0  0  1  0]\n",
      " [ 0  0  2  0  0  2  0  0  0  0]\n",
      " [ 0  0  0 11  2  2  1  0  0  0]\n",
      " [ 0  0  0  0 10  1  1  0  0  0]\n",
      " [ 0  0  0  0  0 17  1  0  0  0]\n",
      " [ 0  0  0  0  0  0 14  0  0  0]\n",
      " [ 0  0  0  0  1  1  0  9  1  0]\n",
      " [ 1  0  0  0  0  1  1  1 12  0]\n",
      " [ 0  0  0  0  0  0  2  0  1  9]]\n"
     ]
    }
   ],
   "source": [
    "y_pred = np.argmax(Y_pred, axis=-1)\n",
    "print('Confusion Matrix')\n",
    "print(confusion_matrix(testing_generator.classes, y_pred))"
   ]
  },
  {
   "cell_type": "code",
   "execution_count": 24,
   "metadata": {},
   "outputs": [
    {
     "name": "stdout",
     "output_type": "stream",
     "text": [
      "Classification Report\n",
      "                   precision    recall  f1-score   support\n",
      "\n",
      "     Batik Kawung       0.92      0.80      0.86        15\n",
      "Batik Megamendung       1.00      0.87      0.93        15\n",
      "      Batik Nitik       1.00      0.50      0.67         4\n",
      "     Batik Parang       1.00      0.69      0.81        16\n",
      " Batik Sido Luhur       0.71      0.83      0.77        12\n",
      "    Batik Truntum       0.68      0.94      0.79        18\n",
      " Batik Udan Liris       0.67      1.00      0.80        14\n",
      "      Batik Gedok       0.90      0.75      0.82        12\n",
      "     Batik Ceplok       0.75      0.75      0.75        16\n",
      "     Batik Tambal       1.00      0.75      0.86        12\n",
      "\n",
      "         accuracy                           0.81       134\n",
      "        macro avg       0.86      0.79      0.81       134\n",
      "     weighted avg       0.85      0.81      0.82       134\n",
      "\n"
     ]
    }
   ],
   "source": [
    "batik_index = ['Batik Kawung','Batik Megamendung','Batik Nitik','Batik Parang',\n",
    "               'Batik Sido Luhur','Batik Truntum','Batik Udan Liris','Batik Gedok','Batik Ceplok','Batik Tambal']\n",
    "print('Classification Report')\n",
    "print(classification_report(testing_generator.classes, y_pred, target_names=batik_index))"
   ]
  },
  {
   "cell_type": "markdown",
   "metadata": {},
   "source": [
    "### JIka model sudah disimpan"
   ]
  },
  {
   "cell_type": "code",
   "execution_count": 3,
   "metadata": {},
   "outputs": [],
   "source": [
    "from keras.models import load_model"
   ]
  },
  {
   "cell_type": "code",
   "execution_count": 4,
   "metadata": {
    "scrolled": false
   },
   "outputs": [
    {
     "name": "stdout",
     "output_type": "stream",
     "text": [
      "WARNING:tensorflow:From D:\\Anaconda\\envs\\tensorflow\\lib\\site-packages\\keras\\backend\\tensorflow_backend.py:517: The name tf.placeholder is deprecated. Please use tf.compat.v1.placeholder instead.\n",
      "\n",
      "WARNING:tensorflow:From D:\\Anaconda\\envs\\tensorflow\\lib\\site-packages\\keras\\backend\\tensorflow_backend.py:4138: The name tf.random_uniform is deprecated. Please use tf.random.uniform instead.\n",
      "\n",
      "WARNING:tensorflow:From D:\\Anaconda\\envs\\tensorflow\\lib\\site-packages\\keras\\backend\\tensorflow_backend.py:245: The name tf.get_default_graph is deprecated. Please use tf.compat.v1.get_default_graph instead.\n",
      "\n",
      "WARNING:tensorflow:From D:\\Anaconda\\envs\\tensorflow\\lib\\site-packages\\keras\\backend\\tensorflow_backend.py:174: The name tf.get_default_session is deprecated. Please use tf.compat.v1.get_default_session instead.\n",
      "\n",
      "WARNING:tensorflow:From D:\\Anaconda\\envs\\tensorflow\\lib\\site-packages\\keras\\backend\\tensorflow_backend.py:181: The name tf.ConfigProto is deprecated. Please use tf.compat.v1.ConfigProto instead.\n",
      "\n",
      "WARNING:tensorflow:From D:\\Anaconda\\envs\\tensorflow\\lib\\site-packages\\keras\\backend\\tensorflow_backend.py:186: The name tf.Session is deprecated. Please use tf.compat.v1.Session instead.\n",
      "\n",
      "WARNING:tensorflow:From D:\\Anaconda\\envs\\tensorflow\\lib\\site-packages\\keras\\backend\\tensorflow_backend.py:190: The name tf.global_variables is deprecated. Please use tf.compat.v1.global_variables instead.\n",
      "\n",
      "WARNING:tensorflow:From D:\\Anaconda\\envs\\tensorflow\\lib\\site-packages\\keras\\backend\\tensorflow_backend.py:199: The name tf.is_variable_initialized is deprecated. Please use tf.compat.v1.is_variable_initialized instead.\n",
      "\n",
      "WARNING:tensorflow:From D:\\Anaconda\\envs\\tensorflow\\lib\\site-packages\\keras\\backend\\tensorflow_backend.py:206: The name tf.variables_initializer is deprecated. Please use tf.compat.v1.variables_initializer instead.\n",
      "\n",
      "WARNING:tensorflow:From D:\\Anaconda\\envs\\tensorflow\\lib\\site-packages\\keras\\backend\\tensorflow_backend.py:1834: The name tf.nn.fused_batch_norm is deprecated. Please use tf.compat.v1.nn.fused_batch_norm instead.\n",
      "\n",
      "WARNING:tensorflow:From D:\\Anaconda\\envs\\tensorflow\\lib\\site-packages\\keras\\backend\\tensorflow_backend.py:133: The name tf.placeholder_with_default is deprecated. Please use tf.compat.v1.placeholder_with_default instead.\n",
      "\n",
      "WARNING:tensorflow:From D:\\Anaconda\\envs\\tensorflow\\lib\\site-packages\\keras\\backend\\tensorflow_backend.py:3445: calling dropout (from tensorflow.python.ops.nn_ops) with keep_prob is deprecated and will be removed in a future version.\n",
      "Instructions for updating:\n",
      "Please use `rate` instead of `keep_prob`. Rate should be set to `rate = 1 - keep_prob`.\n",
      "WARNING:tensorflow:From D:\\Anaconda\\envs\\tensorflow\\lib\\site-packages\\keras\\optimizers.py:790: The name tf.train.Optimizer is deprecated. Please use tf.compat.v1.train.Optimizer instead.\n",
      "\n",
      "WARNING:tensorflow:From D:\\Anaconda\\envs\\tensorflow\\lib\\site-packages\\keras\\backend\\tensorflow_backend.py:3376: The name tf.log is deprecated. Please use tf.math.log instead.\n",
      "\n",
      "WARNING:tensorflow:From D:\\Anaconda\\envs\\tensorflow\\lib\\site-packages\\tensorflow_core\\python\\ops\\nn_impl.py:183: where (from tensorflow.python.ops.array_ops) is deprecated and will be removed in a future version.\n",
      "Instructions for updating:\n",
      "Use tf.where in 2.0, which has the same broadcast rule as np.where\n",
      "WARNING:tensorflow:From D:\\Anaconda\\envs\\tensorflow\\lib\\site-packages\\keras\\backend\\tensorflow_backend.py:986: The name tf.assign_add is deprecated. Please use tf.compat.v1.assign_add instead.\n",
      "\n",
      "WARNING:tensorflow:From D:\\Anaconda\\envs\\tensorflow\\lib\\site-packages\\keras\\backend\\tensorflow_backend.py:973: The name tf.assign is deprecated. Please use tf.compat.v1.assign instead.\n",
      "\n"
     ]
    }
   ],
   "source": [
    "loaded_model = load_model(\"MobileNetV2.h5\")"
   ]
  },
  {
   "cell_type": "code",
   "execution_count": 7,
   "metadata": {},
   "outputs": [
    {
     "data": {
      "text/plain": [
       "[0.6565202625829782, 0.8470149422759441, 0.6565202625829782]"
      ]
     },
     "execution_count": 7,
     "metadata": {},
     "output_type": "execute_result"
    }
   ],
   "source": [
    "testing_generator.reset()\n",
    "loaded_model.evaluate_generator(testing_generator,steps= 134 // batch_size+1,workers=12)"
   ]
  },
  {
   "cell_type": "code",
   "execution_count": 9,
   "metadata": {},
   "outputs": [],
   "source": [
    "testing_generator.reset()\n",
    "Y_pred = loaded_model.predict_generator(testing_generator, 134 // batch_size+1,workers=12)"
   ]
  },
  {
   "cell_type": "code",
   "execution_count": 11,
   "metadata": {},
   "outputs": [
    {
     "name": "stdout",
     "output_type": "stream",
     "text": [
      "Confusion Matrix\n",
      "[[ 4  0  0  0  0 11  0  0  0  0]\n",
      " [ 1  5  0  0  0  9  0  0  0  0]\n",
      " [ 1  0  0  0  0  3  0  0  0  0]\n",
      " [ 1  2  0  2  1 10  0  0  0  0]\n",
      " [ 1  0  0  0  1 10  0  0  0  0]\n",
      " [ 1  0  0  0  0 17  0  0  0  0]\n",
      " [ 1  0  0  2  0 11  0  0  0  0]\n",
      " [ 2  0  0  0  0  9  0  1  0  0]\n",
      " [ 0  0  0  0  0 16  0  0  0  0]\n",
      " [ 0  0  0  0  0 11  1  0  0  0]]\n"
     ]
    }
   ],
   "source": [
    "y_pred = np.argmax(Y_pred, axis=-1)\n",
    "print('Confusion Matrix')\n",
    "print(confusion_matrix(testing_generator.classes, y_pred))"
   ]
  },
  {
   "cell_type": "code",
   "execution_count": 12,
   "metadata": {},
   "outputs": [
    {
     "name": "stdout",
     "output_type": "stream",
     "text": [
      "Classification Report\n",
      "                   precision    recall  f1-score   support\n",
      "\n",
      "     Batik Kawung       0.33      0.27      0.30        15\n",
      "Batik Megamendung       0.71      0.33      0.45        15\n",
      "      Batik Nitik       0.00      0.00      0.00         4\n",
      "     Batik Parang       0.50      0.12      0.20        16\n",
      " Batik Sido Luhur       0.50      0.08      0.14        12\n",
      "    Batik Truntum       0.16      0.94      0.27        18\n",
      " Batik Udan Liris       0.00      0.00      0.00        14\n",
      "      Batik Gedok       1.00      0.08      0.15        12\n",
      "     Batik Ceplok       0.00      0.00      0.00        16\n",
      "     Batik Tambal       0.00      0.00      0.00        12\n",
      "\n",
      "         accuracy                           0.22       134\n",
      "        macro avg       0.32      0.18      0.15       134\n",
      "     weighted avg       0.33      0.22      0.17       134\n",
      "\n"
     ]
    },
    {
     "name": "stderr",
     "output_type": "stream",
     "text": [
      "D:\\Anaconda\\envs\\tensorflow\\lib\\site-packages\\sklearn\\metrics\\classification.py:1437: UndefinedMetricWarning: Precision and F-score are ill-defined and being set to 0.0 in labels with no predicted samples.\n",
      "  'precision', 'predicted', average, warn_for)\n"
     ]
    }
   ],
   "source": [
    "batik_index = ['Batik Kawung','Batik Megamendung','Batik Nitik','Batik Parang','Batik Sido Luhur','Batik Truntum','Batik Udan Liris','Batik Gedok','Batik Ceplok','Batik Tambal']\n",
    "print('Classification Report')\n",
    "print(classification_report(testing_generator.classes, y_pred, target_names=batik_index))"
   ]
  }
 ],
 "metadata": {
  "kernelspec": {
   "display_name": "Python 3",
   "language": "python",
   "name": "python3"
  },
  "language_info": {
   "codemirror_mode": {
    "name": "ipython",
    "version": 3
   },
   "file_extension": ".py",
   "mimetype": "text/x-python",
   "name": "python",
   "nbconvert_exporter": "python",
   "pygments_lexer": "ipython3",
   "version": "3.6.3"
  }
 },
 "nbformat": 4,
 "nbformat_minor": 2
}
