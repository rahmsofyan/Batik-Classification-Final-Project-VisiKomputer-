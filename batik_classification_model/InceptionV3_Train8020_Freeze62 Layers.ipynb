{
 "cells": [
  {
   "cell_type": "code",
   "execution_count": 1,
   "metadata": {},
   "outputs": [
    {
     "name": "stderr",
     "output_type": "stream",
     "text": [
      "Using TensorFlow backend.\n"
     ]
    }
   ],
   "source": [
    "import numpy as np\n",
    "\n",
    "from keras.preprocessing.image import ImageDataGenerator\n",
    "from keras.layers import Input, Activation, Dense, Conv2D, MaxPooling2D, ZeroPadding2D, Flatten ,Dropout\n",
    "from keras.models import Sequential, Model\n",
    "from keras import applications\n",
    "from keras.optimizers import SGD\n",
    "from keras.callbacks import TensorBoard\n",
    "\n",
    "from sklearn.metrics import classification_report, confusion_matrix"
   ]
  },
  {
   "cell_type": "code",
   "execution_count": 2,
   "metadata": {},
   "outputs": [],
   "source": [
    "img_width = 224\n",
    "img_height = 224\n",
    "split = 0.2\n",
    "train_samples = 5000 *(1-split)\n",
    "validation_samples =  5000*split\n",
    "epochs = 50\n",
    "batch_size = 16\n",
    "num_classes = 10\n",
    "\n",
    "dataset = './dataset/training_set'\n",
    "datatest = './dataset/test_set'"
   ]
  },
  {
   "cell_type": "code",
   "execution_count": 3,
   "metadata": {},
   "outputs": [
    {
     "name": "stdout",
     "output_type": "stream",
     "text": [
      "Found 360 images belonging to 10 classes.\n",
      "Found 84 images belonging to 10 classes.\n"
     ]
    }
   ],
   "source": [
    "#Image Augementation train\n",
    "image_generator = ImageDataGenerator(\n",
    "    shear_range=0.05,\n",
    "    rescale=1. / 255,\n",
    "    zoom_range=0.2,\n",
    "    horizontal_flip=True,\n",
    "    vertical_flip=True,\n",
    "    brightness_range=[0.5, 1.5],\n",
    "    validation_split=split,\n",
    "    )\n",
    "\n",
    "train_generator = image_generator.flow_from_directory(\n",
    "    dataset,\n",
    "    target_size=(img_height, img_width),\n",
    "    batch_size=batch_size,\n",
    "    subset=\"training\",\n",
    "    class_mode='categorical')\n",
    "\n",
    "validation_generator = image_generator.flow_from_directory(\n",
    "    dataset,\n",
    "    target_size=(img_height, img_width),\n",
    "    batch_size=batch_size,\n",
    "    class_mode='categorical',\n",
    "    subset=\"validation\")"
   ]
  },
  {
   "cell_type": "code",
   "execution_count": 4,
   "metadata": {},
   "outputs": [
    {
     "name": "stdout",
     "output_type": "stream",
     "text": [
      "WARNING:tensorflow:From D:\\Anaconda\\envs\\tensorflow\\lib\\site-packages\\keras\\backend\\tensorflow_backend.py:74: The name tf.get_default_graph is deprecated. Please use tf.compat.v1.get_default_graph instead.\n",
      "\n",
      "WARNING:tensorflow:From D:\\Anaconda\\envs\\tensorflow\\lib\\site-packages\\keras\\backend\\tensorflow_backend.py:517: The name tf.placeholder is deprecated. Please use tf.compat.v1.placeholder instead.\n",
      "\n",
      "WARNING:tensorflow:From D:\\Anaconda\\envs\\tensorflow\\lib\\site-packages\\keras\\backend\\tensorflow_backend.py:4138: The name tf.random_uniform is deprecated. Please use tf.random.uniform instead.\n",
      "\n",
      "WARNING:tensorflow:From D:\\Anaconda\\envs\\tensorflow\\lib\\site-packages\\keras\\backend\\tensorflow_backend.py:174: The name tf.get_default_session is deprecated. Please use tf.compat.v1.get_default_session instead.\n",
      "\n",
      "WARNING:tensorflow:From D:\\Anaconda\\envs\\tensorflow\\lib\\site-packages\\keras\\backend\\tensorflow_backend.py:181: The name tf.ConfigProto is deprecated. Please use tf.compat.v1.ConfigProto instead.\n",
      "\n",
      "WARNING:tensorflow:From D:\\Anaconda\\envs\\tensorflow\\lib\\site-packages\\keras\\backend\\tensorflow_backend.py:186: The name tf.Session is deprecated. Please use tf.compat.v1.Session instead.\n",
      "\n",
      "WARNING:tensorflow:From D:\\Anaconda\\envs\\tensorflow\\lib\\site-packages\\keras\\backend\\tensorflow_backend.py:190: The name tf.global_variables is deprecated. Please use tf.compat.v1.global_variables instead.\n",
      "\n",
      "WARNING:tensorflow:From D:\\Anaconda\\envs\\tensorflow\\lib\\site-packages\\keras\\backend\\tensorflow_backend.py:199: The name tf.is_variable_initialized is deprecated. Please use tf.compat.v1.is_variable_initialized instead.\n",
      "\n",
      "WARNING:tensorflow:From D:\\Anaconda\\envs\\tensorflow\\lib\\site-packages\\keras\\backend\\tensorflow_backend.py:206: The name tf.variables_initializer is deprecated. Please use tf.compat.v1.variables_initializer instead.\n",
      "\n",
      "WARNING:tensorflow:From D:\\Anaconda\\envs\\tensorflow\\lib\\site-packages\\keras\\backend\\tensorflow_backend.py:1834: The name tf.nn.fused_batch_norm is deprecated. Please use tf.compat.v1.nn.fused_batch_norm instead.\n",
      "\n",
      "WARNING:tensorflow:From D:\\Anaconda\\envs\\tensorflow\\lib\\site-packages\\keras\\backend\\tensorflow_backend.py:133: The name tf.placeholder_with_default is deprecated. Please use tf.compat.v1.placeholder_with_default instead.\n",
      "\n",
      "WARNING:tensorflow:From D:\\Anaconda\\envs\\tensorflow\\lib\\site-packages\\keras\\backend\\tensorflow_backend.py:3976: The name tf.nn.max_pool is deprecated. Please use tf.nn.max_pool2d instead.\n",
      "\n",
      "WARNING:tensorflow:From D:\\Anaconda\\envs\\tensorflow\\lib\\site-packages\\keras\\backend\\tensorflow_backend.py:3980: The name tf.nn.avg_pool is deprecated. Please use tf.nn.avg_pool2d instead.\n",
      "\n"
     ]
    }
   ],
   "source": [
    "base_model = applications.inception_v3.InceptionV3(weights = \"imagenet\",\\\n",
    "                                                   include_top=False,\\\n",
    "                                                   input_shape = (img_width, img_height, 3))"
   ]
  },
  {
   "cell_type": "code",
   "execution_count": 5,
   "metadata": {},
   "outputs": [
    {
     "name": "stdout",
     "output_type": "stream",
     "text": [
      "WARNING:tensorflow:From D:\\Anaconda\\envs\\tensorflow\\lib\\site-packages\\keras\\backend\\tensorflow_backend.py:3445: calling dropout (from tensorflow.python.ops.nn_ops) with keep_prob is deprecated and will be removed in a future version.\n",
      "Instructions for updating:\n",
      "Please use `rate` instead of `keep_prob`. Rate should be set to `rate = 1 - keep_prob`.\n"
     ]
    }
   ],
   "source": [
    "top_model = Flatten(name=\"flatten\")(base_model.output)\n",
    "top_model = Dense(512,activation=\"relu\")(top_model)\n",
    "top_model = Dropout(0.5)(top_model)\n",
    "top_model = Dense(num_classes,activation=\"softmax\")(top_model)"
   ]
  },
  {
   "cell_type": "code",
   "execution_count": 6,
   "metadata": {},
   "outputs": [],
   "source": [
    "for layer in base_model.layers[:62]:\n",
    "    layer.trainable = False   \n",
    "    \n",
    "final_model = Model(inputs=base_model.input,outputs=top_model)    "
   ]
  },
  {
   "cell_type": "markdown",
   "metadata": {},
   "source": [
    "### Inception training :80% validation 20%"
   ]
  },
  {
   "cell_type": "code",
   "execution_count": 7,
   "metadata": {
    "scrolled": false
   },
   "outputs": [
    {
     "name": "stdout",
     "output_type": "stream",
     "text": [
      "[INFO] compiling model...\n",
      "WARNING:tensorflow:From D:\\Anaconda\\envs\\tensorflow\\lib\\site-packages\\keras\\optimizers.py:790: The name tf.train.Optimizer is deprecated. Please use tf.compat.v1.train.Optimizer instead.\n",
      "\n",
      "WARNING:tensorflow:From D:\\Anaconda\\envs\\tensorflow\\lib\\site-packages\\keras\\backend\\tensorflow_backend.py:3376: The name tf.log is deprecated. Please use tf.math.log instead.\n",
      "\n",
      "WARNING:tensorflow:From D:\\Anaconda\\envs\\tensorflow\\lib\\site-packages\\tensorflow_core\\python\\ops\\nn_impl.py:183: where (from tensorflow.python.ops.array_ops) is deprecated and will be removed in a future version.\n",
      "Instructions for updating:\n",
      "Use tf.where in 2.0, which has the same broadcast rule as np.where\n",
      "WARNING:tensorflow:From D:\\Anaconda\\envs\\tensorflow\\lib\\site-packages\\keras\\backend\\tensorflow_backend.py:986: The name tf.assign_add is deprecated. Please use tf.compat.v1.assign_add instead.\n",
      "\n",
      "WARNING:tensorflow:From D:\\Anaconda\\envs\\tensorflow\\lib\\site-packages\\keras\\backend\\tensorflow_backend.py:973: The name tf.assign is deprecated. Please use tf.compat.v1.assign instead.\n",
      "\n",
      "WARNING:tensorflow:From D:\\Anaconda\\envs\\tensorflow\\lib\\site-packages\\keras\\callbacks.py:850: The name tf.summary.merge_all is deprecated. Please use tf.compat.v1.summary.merge_all instead.\n",
      "\n",
      "WARNING:tensorflow:From D:\\Anaconda\\envs\\tensorflow\\lib\\site-packages\\keras\\callbacks.py:853: The name tf.summary.FileWriter is deprecated. Please use tf.compat.v1.summary.FileWriter instead.\n",
      "\n",
      "Epoch 1/50\n",
      "250/250 [==============================] - 108s 431ms/step - loss: 0.3432 - acc: 0.8946 - binary_crossentropy: 0.3432 - val_loss: 0.2886 - val_acc: 0.9011 - val_binary_crossentropy: 0.2886\n",
      "WARNING:tensorflow:From D:\\Anaconda\\envs\\tensorflow\\lib\\site-packages\\keras\\callbacks.py:995: The name tf.Summary is deprecated. Please use tf.compat.v1.Summary instead.\n",
      "\n",
      "Epoch 2/50\n",
      "250/250 [==============================] - 96s 382ms/step - loss: 0.2822 - acc: 0.9034 - binary_crossentropy: 0.2822 - val_loss: 0.2521 - val_acc: 0.9076 - val_binary_crossentropy: 0.2521\n",
      "Epoch 3/50\n",
      "250/250 [==============================] - 94s 378ms/step - loss: 0.2485 - acc: 0.9109 - binary_crossentropy: 0.2485 - val_loss: 0.2254 - val_acc: 0.9159 - val_binary_crossentropy: 0.2254\n",
      "Epoch 4/50\n",
      "250/250 [==============================] - 94s 375ms/step - loss: 0.2149 - acc: 0.9220 - binary_crossentropy: 0.2149 - val_loss: 0.1986 - val_acc: 0.9227 - val_binary_crossentropy: 0.1986\n",
      "Epoch 5/50\n",
      "250/250 [==============================] - 95s 381ms/step - loss: 0.1910 - acc: 0.9302 - binary_crossentropy: 0.1910 - val_loss: 0.1813 - val_acc: 0.9298 - val_binary_crossentropy: 0.1813\n",
      "Epoch 6/50\n",
      "250/250 [==============================] - 94s 378ms/step - loss: 0.1694 - acc: 0.9355 - binary_crossentropy: 0.1694 - val_loss: 0.1676 - val_acc: 0.9377 - val_binary_crossentropy: 0.1676\n",
      "Epoch 7/50\n",
      "250/250 [==============================] - 95s 378ms/step - loss: 0.1526 - acc: 0.9434 - binary_crossentropy: 0.1526 - val_loss: 0.1583 - val_acc: 0.9394 - val_binary_crossentropy: 0.1583\n",
      "Epoch 8/50\n",
      "250/250 [==============================] - 93s 373ms/step - loss: 0.1360 - acc: 0.9496 - binary_crossentropy: 0.1360 - val_loss: 0.1543 - val_acc: 0.9422 - val_binary_crossentropy: 0.1543\n",
      "Epoch 9/50\n",
      "250/250 [==============================] - 93s 372ms/step - loss: 0.1241 - acc: 0.9542 - binary_crossentropy: 0.1241 - val_loss: 0.1452 - val_acc: 0.9456 - val_binary_crossentropy: 0.1452\n",
      "Epoch 10/50\n",
      "250/250 [==============================] - 94s 376ms/step - loss: 0.1141 - acc: 0.9569 - binary_crossentropy: 0.1141 - val_loss: 0.1435 - val_acc: 0.9472 - val_binary_crossentropy: 0.1435\n",
      "Epoch 11/50\n",
      "250/250 [==============================] - 94s 374ms/step - loss: 0.1096 - acc: 0.9596 - binary_crossentropy: 0.1096 - val_loss: 0.1499 - val_acc: 0.9452 - val_binary_crossentropy: 0.1499\n",
      "Epoch 12/50\n",
      "250/250 [==============================] - 96s 384ms/step - loss: 0.1001 - acc: 0.9640 - binary_crossentropy: 0.1001 - val_loss: 0.1433 - val_acc: 0.9470 - val_binary_crossentropy: 0.1433\n",
      "Epoch 13/50\n",
      "250/250 [==============================] - 93s 372ms/step - loss: 0.0935 - acc: 0.9642 - binary_crossentropy: 0.0935 - val_loss: 0.1393 - val_acc: 0.9487 - val_binary_crossentropy: 0.1393\n",
      "Epoch 14/50\n",
      "250/250 [==============================] - 94s 375ms/step - loss: 0.0853 - acc: 0.9675 - binary_crossentropy: 0.0853 - val_loss: 0.1409 - val_acc: 0.9477 - val_binary_crossentropy: 0.1409\n",
      "Epoch 15/50\n",
      "250/250 [==============================] - 93s 373ms/step - loss: 0.0856 - acc: 0.9692 - binary_crossentropy: 0.0856 - val_loss: 0.1405 - val_acc: 0.9483 - val_binary_crossentropy: 0.1405\n",
      "Epoch 16/50\n",
      "250/250 [==============================] - 96s 385ms/step - loss: 0.0762 - acc: 0.9717 - binary_crossentropy: 0.0762 - val_loss: 0.1368 - val_acc: 0.9518 - val_binary_crossentropy: 0.1368\n",
      "Epoch 17/50\n",
      "250/250 [==============================] - 94s 374ms/step - loss: 0.0733 - acc: 0.9730 - binary_crossentropy: 0.0733 - val_loss: 0.1428 - val_acc: 0.9498 - val_binary_crossentropy: 0.1428\n",
      "Epoch 18/50\n",
      "250/250 [==============================] - 93s 372ms/step - loss: 0.0681 - acc: 0.9756 - binary_crossentropy: 0.0681 - val_loss: 0.1408 - val_acc: 0.9497 - val_binary_crossentropy: 0.1408\n",
      "Epoch 19/50\n",
      "250/250 [==============================] - 95s 381ms/step - loss: 0.0636 - acc: 0.9759 - binary_crossentropy: 0.0636 - val_loss: 0.1449 - val_acc: 0.9503 - val_binary_crossentropy: 0.1449\n",
      "Epoch 20/50\n",
      "250/250 [==============================] - 95s 379ms/step - loss: 0.0595 - acc: 0.9781 - binary_crossentropy: 0.0595 - val_loss: 0.1368 - val_acc: 0.9526 - val_binary_crossentropy: 0.1368\n",
      "Epoch 21/50\n",
      "250/250 [==============================] - 93s 374ms/step - loss: 0.0560 - acc: 0.9790 - binary_crossentropy: 0.0560 - val_loss: 0.1385 - val_acc: 0.9521 - val_binary_crossentropy: 0.1385\n",
      "Epoch 22/50\n",
      "250/250 [==============================] - 93s 372ms/step - loss: 0.0558 - acc: 0.9788 - binary_crossentropy: 0.0558 - val_loss: 0.1465 - val_acc: 0.9495 - val_binary_crossentropy: 0.1465\n",
      "Epoch 23/50\n",
      "250/250 [==============================] - 93s 373ms/step - loss: 0.0563 - acc: 0.9787 - binary_crossentropy: 0.0563 - val_loss: 0.1399 - val_acc: 0.9541 - val_binary_crossentropy: 0.1399\n",
      "Epoch 24/50\n",
      "250/250 [==============================] - 93s 374ms/step - loss: 0.0536 - acc: 0.9800 - binary_crossentropy: 0.0536 - val_loss: 0.1432 - val_acc: 0.9523 - val_binary_crossentropy: 0.1432\n",
      "Epoch 25/50\n",
      "250/250 [==============================] - 93s 373ms/step - loss: 0.0490 - acc: 0.9822 - binary_crossentropy: 0.0490 - val_loss: 0.1475 - val_acc: 0.9508 - val_binary_crossentropy: 0.1475\n",
      "Epoch 26/50\n",
      "250/250 [==============================] - 93s 372ms/step - loss: 0.0455 - acc: 0.9836 - binary_crossentropy: 0.0455 - val_loss: 0.1452 - val_acc: 0.9530 - val_binary_crossentropy: 0.1452\n",
      "Epoch 27/50\n",
      "250/250 [==============================] - 93s 372ms/step - loss: 0.0459 - acc: 0.9838 - binary_crossentropy: 0.0459 - val_loss: 0.1457 - val_acc: 0.9535 - val_binary_crossentropy: 0.1457\n",
      "Epoch 28/50\n",
      "250/250 [==============================] - 94s 377ms/step - loss: 0.0436 - acc: 0.9845 - binary_crossentropy: 0.0436 - val_loss: 0.1572 - val_acc: 0.9494 - val_binary_crossentropy: 0.1572\n",
      "Epoch 29/50\n",
      "250/250 [==============================] - 94s 374ms/step - loss: 0.0385 - acc: 0.9860 - binary_crossentropy: 0.0385 - val_loss: 0.1520 - val_acc: 0.9522 - val_binary_crossentropy: 0.1520\n",
      "Epoch 30/50\n",
      "250/250 [==============================] - 93s 372ms/step - loss: 0.0428 - acc: 0.9848 - binary_crossentropy: 0.0428 - val_loss: 0.1443 - val_acc: 0.9527 - val_binary_crossentropy: 0.1443\n",
      "Epoch 31/50\n",
      "250/250 [==============================] - 93s 372ms/step - loss: 0.0364 - acc: 0.9866 - binary_crossentropy: 0.0364 - val_loss: 0.1567 - val_acc: 0.9518 - val_binary_crossentropy: 0.1567\n",
      "Epoch 32/50\n",
      "250/250 [==============================] - 93s 371ms/step - loss: 0.0353 - acc: 0.9867 - binary_crossentropy: 0.0353 - val_loss: 0.1364 - val_acc: 0.9568 - val_binary_crossentropy: 0.1364\n",
      "Epoch 33/50\n",
      "250/250 [==============================] - 94s 375ms/step - loss: 0.0335 - acc: 0.9882 - binary_crossentropy: 0.0335 - val_loss: 0.1543 - val_acc: 0.9508 - val_binary_crossentropy: 0.1543\n"
     ]
    },
    {
     "name": "stdout",
     "output_type": "stream",
     "text": [
      "Epoch 34/50\n",
      "250/250 [==============================] - 93s 371ms/step - loss: 0.0354 - acc: 0.9867 - binary_crossentropy: 0.0354 - val_loss: 0.1527 - val_acc: 0.9544 - val_binary_crossentropy: 0.1527\n",
      "Epoch 35/50\n",
      "250/250 [==============================] - 94s 374ms/step - loss: 0.0317 - acc: 0.9882 - binary_crossentropy: 0.0317 - val_loss: 0.1495 - val_acc: 0.9558 - val_binary_crossentropy: 0.1495\n",
      "Epoch 36/50\n",
      "250/250 [==============================] - 98s 390ms/step - loss: 0.0332 - acc: 0.9879 - binary_crossentropy: 0.0332 - val_loss: 0.1543 - val_acc: 0.9531 - val_binary_crossentropy: 0.1543\n",
      "Epoch 37/50\n",
      "250/250 [==============================] - 93s 371ms/step - loss: 0.0298 - acc: 0.9890 - binary_crossentropy: 0.0298 - val_loss: 0.1482 - val_acc: 0.9513 - val_binary_crossentropy: 0.1482\n",
      "Epoch 38/50\n",
      "250/250 [==============================] - 93s 372ms/step - loss: 0.0277 - acc: 0.9900 - binary_crossentropy: 0.0277 - val_loss: 0.1531 - val_acc: 0.9510 - val_binary_crossentropy: 0.1531\n",
      "Epoch 39/50\n",
      "250/250 [==============================] - 93s 372ms/step - loss: 0.0279 - acc: 0.9904 - binary_crossentropy: 0.0279 - val_loss: 0.1577 - val_acc: 0.9535 - val_binary_crossentropy: 0.1577\n",
      "Epoch 40/50\n",
      "250/250 [==============================] - 94s 377ms/step - loss: 0.0303 - acc: 0.9887 - binary_crossentropy: 0.0303 - val_loss: 0.1547 - val_acc: 0.9529 - val_binary_crossentropy: 0.1547\n",
      "Epoch 41/50\n",
      "250/250 [==============================] - 93s 374ms/step - loss: 0.0271 - acc: 0.9907 - binary_crossentropy: 0.0271 - val_loss: 0.1569 - val_acc: 0.9522 - val_binary_crossentropy: 0.1569\n",
      "Epoch 42/50\n",
      "250/250 [==============================] - 93s 373ms/step - loss: 0.0294 - acc: 0.9897 - binary_crossentropy: 0.0294 - val_loss: 0.1645 - val_acc: 0.9522 - val_binary_crossentropy: 0.1645\n",
      "Epoch 43/50\n",
      "250/250 [==============================] - 93s 373ms/step - loss: 0.0260 - acc: 0.9905 - binary_crossentropy: 0.0260 - val_loss: 0.1656 - val_acc: 0.9511 - val_binary_crossentropy: 0.1656\n",
      "Epoch 44/50\n",
      "250/250 [==============================] - 95s 381ms/step - loss: 0.0258 - acc: 0.9906 - binary_crossentropy: 0.0258 - val_loss: 0.1620 - val_acc: 0.9500 - val_binary_crossentropy: 0.1620\n",
      "Epoch 45/50\n",
      "250/250 [==============================] - 94s 374ms/step - loss: 0.0221 - acc: 0.9919 - binary_crossentropy: 0.0221 - val_loss: 0.1676 - val_acc: 0.9517 - val_binary_crossentropy: 0.1676\n",
      "Epoch 46/50\n",
      "250/250 [==============================] - 93s 373ms/step - loss: 0.0259 - acc: 0.9906 - binary_crossentropy: 0.0259 - val_loss: 0.1623 - val_acc: 0.9515 - val_binary_crossentropy: 0.1623\n",
      "Epoch 47/50\n",
      "250/250 [==============================] - 93s 373ms/step - loss: 0.0234 - acc: 0.9911 - binary_crossentropy: 0.0234 - val_loss: 0.1678 - val_acc: 0.9531 - val_binary_crossentropy: 0.1678\n",
      "Epoch 48/50\n",
      "250/250 [==============================] - 94s 374ms/step - loss: 0.0206 - acc: 0.9925 - binary_crossentropy: 0.0206 - val_loss: 0.1607 - val_acc: 0.9551 - val_binary_crossentropy: 0.1607\n",
      "Epoch 49/50\n",
      "250/250 [==============================] - 95s 382ms/step - loss: 0.0226 - acc: 0.9924 - binary_crossentropy: 0.0226 - val_loss: 0.1723 - val_acc: 0.9521 - val_binary_crossentropy: 0.1723\n",
      "Epoch 50/50\n",
      "250/250 [==============================] - 93s 373ms/step - loss: 0.0248 - acc: 0.9912 - binary_crossentropy: 0.0248 - val_loss: 0.1662 - val_acc: 0.9531 - val_binary_crossentropy: 0.1662\n",
      "[INFO] serializing network...\n"
     ]
    }
   ],
   "source": [
    "print(\"[INFO] compiling model...\")\n",
    "opt = SGD(lr=1e-4, momentum=0.9)\n",
    "final_model.compile(loss=\"binary_crossentropy\", optimizer=opt,\n",
    "\tmetrics=[\"accuracy\",\"binary_crossentropy\"])\n",
    "\n",
    "\n",
    "#Model Fitting\n",
    "callbacks = TensorBoard(log_dir='.\\\\Graph\\\\InceptionV3')\n",
    "H = final_model.fit_generator(\n",
    "\ttrain_generator,\n",
    "\tsteps_per_epoch=train_samples // batch_size,\n",
    "\tvalidation_data=validation_generator,\n",
    "\tvalidation_steps=validation_samples // batch_size,\n",
    "\tepochs=epochs,\n",
    "    callbacks=[callbacks])\n",
    "\n",
    "print(\"[INFO] serializing network...\")\n",
    "final_model.save(\"InceptionV3.h5\")"
   ]
  },
  {
   "cell_type": "code",
   "execution_count": 8,
   "metadata": {},
   "outputs": [
    {
     "name": "stdout",
     "output_type": "stream",
     "text": [
      "Found 134 images belonging to 10 classes.\n"
     ]
    }
   ],
   "source": [
    "image_test_generator = ImageDataGenerator(rescale=1. / 255)\n",
    "\n",
    "testing_generator = image_test_generator.flow_from_directory(\n",
    "    datatest,\n",
    "    target_size=(img_height, img_width),\n",
    "    batch_size=batch_size,\n",
    "    class_mode='categorical',\n",
    "    shuffle=False\n",
    "    )"
   ]
  },
  {
   "cell_type": "code",
   "execution_count": 9,
   "metadata": {},
   "outputs": [
    {
     "data": {
      "text/plain": [
       "[0.13157355518483405, 0.9537313411484903, 0.13157355518483405]"
      ]
     },
     "execution_count": 9,
     "metadata": {},
     "output_type": "execute_result"
    }
   ],
   "source": [
    "final_model.evaluate_generator(testing_generator,steps= 134 // batch_size+1,workers=12)\n"
   ]
  },
  {
   "cell_type": "code",
   "execution_count": 13,
   "metadata": {},
   "outputs": [],
   "source": [
    "testing_generator.reset()\n",
    "Y_pred = final_model.predict_generator(testing_generator, 134 // batch_size+1,workers=12)"
   ]
  },
  {
   "cell_type": "code",
   "execution_count": 14,
   "metadata": {},
   "outputs": [
    {
     "name": "stdout",
     "output_type": "stream",
     "text": [
      "Confusion Matrix\n",
      "[[13  0  0  1  0  1  0  0  0  0]\n",
      " [ 0 15  0  0  0  0  0  0  0  0]\n",
      " [ 0  0  2  0  0  2  0  0  0  0]\n",
      " [ 1  2  0 10  1  0  0  0  2  0]\n",
      " [ 0  1  0  1  6  0  0  0  3  1]\n",
      " [ 1  1  0  0  0 15  0  0  1  0]\n",
      " [ 0  0  0  1  0  0 13  0  0  0]\n",
      " [ 1  2  0  0  0  0  0  9  0  0]\n",
      " [ 4  1  1  0  0  0  0  0 10  0]\n",
      " [ 1  0  0  0  0  0  0  0  1 10]]\n"
     ]
    }
   ],
   "source": [
    "y_pred = np.argmax(Y_pred, axis=-1)\n",
    "print('Confusion Matrix')\n",
    "print(confusion_matrix(testing_generator.classes, y_pred))"
   ]
  },
  {
   "cell_type": "code",
   "execution_count": 15,
   "metadata": {},
   "outputs": [
    {
     "name": "stdout",
     "output_type": "stream",
     "text": [
      "Classification Report\n",
      "                   precision    recall  f1-score   support\n",
      "\n",
      "     Batik Kawung       0.62      0.87      0.72        15\n",
      "Batik Megamendung       0.68      1.00      0.81        15\n",
      "      Batik Nitik       0.67      0.50      0.57         4\n",
      "     Batik Parang       0.77      0.62      0.69        16\n",
      " Batik Sido Luhur       0.86      0.50      0.63        12\n",
      "    Batik Truntum       0.83      0.83      0.83        18\n",
      " Batik Udan Liris       1.00      0.93      0.96        14\n",
      "      Batik Gedok       1.00      0.75      0.86        12\n",
      "     Batik Ceplok       0.59      0.62      0.61        16\n",
      "     Batik Tambal       0.91      0.83      0.87        12\n",
      "\n",
      "         accuracy                           0.77       134\n",
      "        macro avg       0.79      0.75      0.76       134\n",
      "     weighted avg       0.79      0.77      0.77       134\n",
      "\n"
     ]
    }
   ],
   "source": [
    "batik_index = ['Batik Kawung','Batik Megamendung','Batik Nitik','Batik Parang','Batik Sido Luhur','Batik Truntum','Batik Udan Liris','Batik Gedok','Batik Ceplok','Batik Tambal']\n",
    "print('Classification Report')\n",
    "print(classification_report(testing_generator.classes, y_pred, target_names=batik_index))"
   ]
  },
  {
   "cell_type": "code",
   "execution_count": 165,
   "metadata": {},
   "outputs": [],
   "source": [
    "from keras.models import load_model"
   ]
  },
  {
   "cell_type": "code",
   "execution_count": 166,
   "metadata": {},
   "outputs": [],
   "source": [
    "loaded_model = load_model(\"MobileNetV2.h5\")"
   ]
  },
  {
   "cell_type": "code",
   "execution_count": 168,
   "metadata": {},
   "outputs": [
    {
     "data": {
      "text/plain": [
       "[0.1276068142545757, 0.9529850625280124, 0.1276068142545757]"
      ]
     },
     "execution_count": 168,
     "metadata": {},
     "output_type": "execute_result"
    }
   ],
   "source": [
    "testing_generator.reset()\n",
    "loaded_model.evaluate_generator(testing_generator,steps= 134 // batch_size+1,workers=12)"
   ]
  },
  {
   "cell_type": "code",
   "execution_count": 169,
   "metadata": {},
   "outputs": [],
   "source": [
    "testing_generator.reset()\n",
    "Y_pred = final_model.predict_generator(testing_generator, 134 // batch_size+1,workers=12)\n"
   ]
  },
  {
   "cell_type": "code",
   "execution_count": 170,
   "metadata": {},
   "outputs": [
    {
     "name": "stdout",
     "output_type": "stream",
     "text": [
      "Confusion Matrix\n",
      "[[11  0  0  0  1  2  0  0  1  0]\n",
      " [ 0 14  0  0  0  0  0  0  1  0]\n",
      " [ 0  0  2  0  0  2  0  0  0  0]\n",
      " [ 1  0  0 10  0  3  2  0  0  0]\n",
      " [ 0  1  0  0  8  1  1  0  1  0]\n",
      " [ 0  1  0  1  0 14  1  0  1  0]\n",
      " [ 0  1  0  0  0  0 13  0  0  0]\n",
      " [ 0  0  0  0  0  2  1  8  1  0]\n",
      " [ 1  0  1  0  1  2  1  1  9  0]\n",
      " [ 0  0  0  0  0  1  0  0  1 10]]\n"
     ]
    }
   ],
   "source": [
    "y_pred = np.argmax(Y_pred, axis=-1)\n",
    "print('Confusion Matrix')\n",
    "print(confusion_matrix(testing_generator.classes, y_pred))"
   ]
  },
  {
   "cell_type": "code",
   "execution_count": 172,
   "metadata": {},
   "outputs": [
    {
     "name": "stdout",
     "output_type": "stream",
     "text": [
      "Classification Report\n",
      "                   precision    recall  f1-score   support\n",
      "\n",
      "     Batik Kawung       0.85      0.73      0.79        15\n",
      "Batik Megamendung       0.82      0.93      0.87        15\n",
      "      Batik Nitik       0.67      0.50      0.57         4\n",
      "     Batik Parang       0.91      0.62      0.74        16\n",
      " Batik Sido Luhur       0.80      0.67      0.73        12\n",
      "    Batik Truntum       0.52      0.78      0.62        18\n",
      " Batik Udan Liris       0.68      0.93      0.79        14\n",
      "      Batik Gedok       0.89      0.67      0.76        12\n",
      "     Batik Ceplok       0.60      0.56      0.58        16\n",
      "     Batik Tambal       1.00      0.83      0.91        12\n",
      "\n",
      "         accuracy                           0.74       134\n",
      "        macro avg       0.77      0.72      0.74       134\n",
      "     weighted avg       0.77      0.74      0.74       134\n",
      "\n"
     ]
    }
   ],
   "source": [
    "batik_index = ['Batik Kawung','Batik Megamendung','Batik Nitik','Batik Parang','Batik Sido Luhur','Batik Truntum','Batik Udan Liris','Batik Gedok','Batik Ceplok','Batik Tambal']\n",
    "print('Classification Report')\n",
    "print(classification_report(testing_generator.classes, y_pred, target_names=batik_index))"
   ]
  }
 ],
 "metadata": {
  "kernelspec": {
   "display_name": "Python 3",
   "language": "python",
   "name": "python3"
  },
  "language_info": {
   "codemirror_mode": {
    "name": "ipython",
    "version": 3
   },
   "file_extension": ".py",
   "mimetype": "text/x-python",
   "name": "python",
   "nbconvert_exporter": "python",
   "pygments_lexer": "ipython3",
   "version": "3.6.3"
  }
 },
 "nbformat": 4,
 "nbformat_minor": 2
}
