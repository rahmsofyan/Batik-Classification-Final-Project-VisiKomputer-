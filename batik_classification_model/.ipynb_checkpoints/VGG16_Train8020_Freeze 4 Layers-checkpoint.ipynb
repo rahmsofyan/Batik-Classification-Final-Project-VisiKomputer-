{
 "cells": [
  {
   "cell_type": "code",
   "execution_count": 2,
   "metadata": {},
   "outputs": [],
   "source": [
    "import numpy as np\n",
    "\n",
    "from keras.preprocessing.image import ImageDataGenerator\n",
    "from keras.layers import Input, Activation, Dense, Conv2D, MaxPooling2D, ZeroPadding2D, Flatten ,Dropout\n",
    "from keras.models import Sequential, Model\n",
    "from keras import applications\n",
    "from keras.optimizers import SGD\n",
    "from keras.callbacks import TensorBoard\n",
    "\n",
    "from sklearn.metrics import classification_report, confusion_matrix"
   ]
  },
  {
   "cell_type": "code",
   "execution_count": 3,
   "metadata": {},
   "outputs": [],
   "source": [
    "img_width = 224\n",
    "img_height = 224\n",
    "split = 0.2\n",
    "train_samples = 5000 *(1-split)\n",
    "validation_samples =  5000*split\n",
    "epochs = 50\n",
    "batch_size = 16\n",
    "num_classes = 10\n",
    "\n",
    "dataset = './dataset/training_set'\n",
    "datatest = './dataset/test_set'"
   ]
  },
  {
   "cell_type": "code",
   "execution_count": 4,
   "metadata": {},
   "outputs": [
    {
     "name": "stdout",
     "output_type": "stream",
     "text": [
      "Found 360 images belonging to 10 classes.\n",
      "Found 84 images belonging to 10 classes.\n"
     ]
    }
   ],
   "source": [
    "#Image Augementation train\n",
    "image_generator = ImageDataGenerator(\n",
    "    shear_range=0.05,\n",
    "    rescale=1. / 255,\n",
    "    zoom_range=0.2,\n",
    "    horizontal_flip=True,\n",
    "    vertical_flip=True,\n",
    "    brightness_range=[0.5, 1.5],\n",
    "    validation_split=split,\n",
    "    )\n",
    "\n",
    "train_generator = image_generator.flow_from_directory(\n",
    "    dataset,\n",
    "    target_size=(img_height, img_width),\n",
    "    batch_size=batch_size,\n",
    "    subset=\"training\",\n",
    "    class_mode='categorical')\n",
    "\n",
    "validation_generator = image_generator.flow_from_directory(\n",
    "    dataset,\n",
    "    target_size=(img_height, img_width),\n",
    "    batch_size=batch_size,\n",
    "    class_mode='categorical',\n",
    "    subset=\"validation\")"
   ]
  },
  {
   "cell_type": "code",
   "execution_count": 5,
   "metadata": {},
   "outputs": [
    {
     "name": "stdout",
     "output_type": "stream",
     "text": [
      "WARNING:tensorflow:From D:\\Anaconda\\envs\\tensorflow\\lib\\site-packages\\keras\\backend\\tensorflow_backend.py:74: The name tf.get_default_graph is deprecated. Please use tf.compat.v1.get_default_graph instead.\n",
      "\n",
      "WARNING:tensorflow:From D:\\Anaconda\\envs\\tensorflow\\lib\\site-packages\\keras\\backend\\tensorflow_backend.py:517: The name tf.placeholder is deprecated. Please use tf.compat.v1.placeholder instead.\n",
      "\n",
      "WARNING:tensorflow:From D:\\Anaconda\\envs\\tensorflow\\lib\\site-packages\\keras\\backend\\tensorflow_backend.py:4138: The name tf.random_uniform is deprecated. Please use tf.random.uniform instead.\n",
      "\n",
      "WARNING:tensorflow:From D:\\Anaconda\\envs\\tensorflow\\lib\\site-packages\\keras\\backend\\tensorflow_backend.py:3976: The name tf.nn.max_pool is deprecated. Please use tf.nn.max_pool2d instead.\n",
      "\n",
      "WARNING:tensorflow:From D:\\Anaconda\\envs\\tensorflow\\lib\\site-packages\\keras\\backend\\tensorflow_backend.py:174: The name tf.get_default_session is deprecated. Please use tf.compat.v1.get_default_session instead.\n",
      "\n",
      "WARNING:tensorflow:From D:\\Anaconda\\envs\\tensorflow\\lib\\site-packages\\keras\\backend\\tensorflow_backend.py:181: The name tf.ConfigProto is deprecated. Please use tf.compat.v1.ConfigProto instead.\n",
      "\n",
      "WARNING:tensorflow:From D:\\Anaconda\\envs\\tensorflow\\lib\\site-packages\\keras\\backend\\tensorflow_backend.py:186: The name tf.Session is deprecated. Please use tf.compat.v1.Session instead.\n",
      "\n",
      "WARNING:tensorflow:From D:\\Anaconda\\envs\\tensorflow\\lib\\site-packages\\keras\\backend\\tensorflow_backend.py:190: The name tf.global_variables is deprecated. Please use tf.compat.v1.global_variables instead.\n",
      "\n",
      "WARNING:tensorflow:From D:\\Anaconda\\envs\\tensorflow\\lib\\site-packages\\keras\\backend\\tensorflow_backend.py:199: The name tf.is_variable_initialized is deprecated. Please use tf.compat.v1.is_variable_initialized instead.\n",
      "\n",
      "WARNING:tensorflow:From D:\\Anaconda\\envs\\tensorflow\\lib\\site-packages\\keras\\backend\\tensorflow_backend.py:206: The name tf.variables_initializer is deprecated. Please use tf.compat.v1.variables_initializer instead.\n",
      "\n"
     ]
    }
   ],
   "source": [
    "base_model = applications.vgg16.VGG16(weights = \"imagenet\", include_top=False, input_shape = (img_width, img_height, 3))"
   ]
  },
  {
   "cell_type": "code",
   "execution_count": 6,
   "metadata": {},
   "outputs": [
    {
     "name": "stdout",
     "output_type": "stream",
     "text": [
      "WARNING:tensorflow:From D:\\Anaconda\\envs\\tensorflow\\lib\\site-packages\\keras\\backend\\tensorflow_backend.py:133: The name tf.placeholder_with_default is deprecated. Please use tf.compat.v1.placeholder_with_default instead.\n",
      "\n",
      "WARNING:tensorflow:From D:\\Anaconda\\envs\\tensorflow\\lib\\site-packages\\keras\\backend\\tensorflow_backend.py:3445: calling dropout (from tensorflow.python.ops.nn_ops) with keep_prob is deprecated and will be removed in a future version.\n",
      "Instructions for updating:\n",
      "Please use `rate` instead of `keep_prob`. Rate should be set to `rate = 1 - keep_prob`.\n"
     ]
    }
   ],
   "source": [
    "top_model = Flatten(name=\"flatten\")(base_model.output)\n",
    "top_model = Dense(512,activation=\"relu\")(top_model)\n",
    "top_model = Dropout(0.5)(top_model)\n",
    "top_model = Dense(num_classes,activation=\"softmax\")(top_model)"
   ]
  },
  {
   "cell_type": "code",
   "execution_count": 7,
   "metadata": {},
   "outputs": [],
   "source": [
    "for layer in base_model.layers[:4]:\n",
    "    layer.trainable = False   \n",
    "    \n",
    "final_model = Model(inputs=base_model.input,outputs=top_model)    "
   ]
  },
  {
   "cell_type": "markdown",
   "metadata": {},
   "source": [
    "### VGG16 training :80% validation 20%"
   ]
  },
  {
   "cell_type": "code",
   "execution_count": 8,
   "metadata": {
    "scrolled": false
   },
   "outputs": [
    {
     "name": "stdout",
     "output_type": "stream",
     "text": [
      "[INFO] compiling model...\n",
      "WARNING:tensorflow:From D:\\Anaconda\\envs\\tensorflow\\lib\\site-packages\\keras\\optimizers.py:790: The name tf.train.Optimizer is deprecated. Please use tf.compat.v1.train.Optimizer instead.\n",
      "\n",
      "WARNING:tensorflow:From D:\\Anaconda\\envs\\tensorflow\\lib\\site-packages\\keras\\backend\\tensorflow_backend.py:3376: The name tf.log is deprecated. Please use tf.math.log instead.\n",
      "\n",
      "WARNING:tensorflow:From D:\\Anaconda\\envs\\tensorflow\\lib\\site-packages\\tensorflow_core\\python\\ops\\nn_impl.py:183: where (from tensorflow.python.ops.array_ops) is deprecated and will be removed in a future version.\n",
      "Instructions for updating:\n",
      "Use tf.where in 2.0, which has the same broadcast rule as np.where\n",
      "WARNING:tensorflow:From D:\\Anaconda\\envs\\tensorflow\\lib\\site-packages\\keras\\backend\\tensorflow_backend.py:986: The name tf.assign_add is deprecated. Please use tf.compat.v1.assign_add instead.\n",
      "\n",
      "WARNING:tensorflow:From D:\\Anaconda\\envs\\tensorflow\\lib\\site-packages\\keras\\backend\\tensorflow_backend.py:973: The name tf.assign is deprecated. Please use tf.compat.v1.assign instead.\n",
      "\n",
      "WARNING:tensorflow:From D:\\Anaconda\\envs\\tensorflow\\lib\\site-packages\\keras\\callbacks.py:850: The name tf.summary.merge_all is deprecated. Please use tf.compat.v1.summary.merge_all instead.\n",
      "\n",
      "WARNING:tensorflow:From D:\\Anaconda\\envs\\tensorflow\\lib\\site-packages\\keras\\callbacks.py:853: The name tf.summary.FileWriter is deprecated. Please use tf.compat.v1.summary.FileWriter instead.\n",
      "\n",
      "Epoch 1/50\n",
      "250/250 [==============================] - 98s 392ms/step - loss: 0.3129 - acc: 0.9005 - binary_crossentropy: 0.3129 - val_loss: 0.2564 - val_acc: 0.9049 - val_binary_crossentropy: 0.2564\n",
      "WARNING:tensorflow:From D:\\Anaconda\\envs\\tensorflow\\lib\\site-packages\\keras\\callbacks.py:995: The name tf.Summary is deprecated. Please use tf.compat.v1.Summary instead.\n",
      "\n",
      "Epoch 2/50\n",
      "250/250 [==============================] - 92s 368ms/step - loss: 0.2351 - acc: 0.9165 - binary_crossentropy: 0.2351 - val_loss: 0.1753 - val_acc: 0.9384 - val_binary_crossentropy: 0.1753\n",
      "Epoch 3/50\n",
      "250/250 [==============================] - 91s 364ms/step - loss: 0.1697 - acc: 0.9374 - binary_crossentropy: 0.1697 - val_loss: 0.1349 - val_acc: 0.9545 - val_binary_crossentropy: 0.1349\n",
      "Epoch 4/50\n",
      "250/250 [==============================] - 91s 364ms/step - loss: 0.1329 - acc: 0.9498 - binary_crossentropy: 0.1329 - val_loss: 0.1165 - val_acc: 0.9578 - val_binary_crossentropy: 0.1165\n",
      "Epoch 5/50\n",
      "250/250 [==============================] - 91s 365ms/step - loss: 0.0989 - acc: 0.9622 - binary_crossentropy: 0.0989 - val_loss: 0.1057 - val_acc: 0.9627 - val_binary_crossentropy: 0.1057\n",
      "Epoch 6/50\n",
      "250/250 [==============================] - 91s 365ms/step - loss: 0.0739 - acc: 0.9726 - binary_crossentropy: 0.0739 - val_loss: 0.1023 - val_acc: 0.9643 - val_binary_crossentropy: 0.1023\n",
      "Epoch 7/50\n",
      "250/250 [==============================] - 91s 364ms/step - loss: 0.0602 - acc: 0.9780 - binary_crossentropy: 0.0602 - val_loss: 0.1061 - val_acc: 0.9647 - val_binary_crossentropy: 0.1061\n",
      "Epoch 8/50\n",
      "250/250 [==============================] - 92s 368ms/step - loss: 0.0481 - acc: 0.9819 - binary_crossentropy: 0.0481 - val_loss: 0.1009 - val_acc: 0.9649 - val_binary_crossentropy: 0.1009\n",
      "Epoch 9/50\n",
      "250/250 [==============================] - 90s 362ms/step - loss: 0.0390 - acc: 0.9856 - binary_crossentropy: 0.0390 - val_loss: 0.1032 - val_acc: 0.9687 - val_binary_crossentropy: 0.1032\n",
      "Epoch 10/50\n",
      "250/250 [==============================] - 92s 366ms/step - loss: 0.0296 - acc: 0.9893 - binary_crossentropy: 0.0296 - val_loss: 0.1064 - val_acc: 0.9674 - val_binary_crossentropy: 0.1064\n",
      "Epoch 11/50\n",
      "250/250 [==============================] - 92s 366ms/step - loss: 0.0259 - acc: 0.9914 - binary_crossentropy: 0.0259 - val_loss: 0.1376 - val_acc: 0.9626 - val_binary_crossentropy: 0.1376\n",
      "Epoch 12/50\n",
      "250/250 [==============================] - 93s 373ms/step - loss: 0.0224 - acc: 0.9922 - binary_crossentropy: 0.0224 - val_loss: 0.1225 - val_acc: 0.9685 - val_binary_crossentropy: 0.1225\n",
      "Epoch 13/50\n",
      "250/250 [==============================] - 91s 363ms/step - loss: 0.0187 - acc: 0.9933 - binary_crossentropy: 0.0187 - val_loss: 0.1426 - val_acc: 0.9627 - val_binary_crossentropy: 0.1426\n",
      "Epoch 14/50\n",
      "250/250 [==============================] - 92s 367ms/step - loss: 0.0181 - acc: 0.9940 - binary_crossentropy: 0.0181 - val_loss: 0.1143 - val_acc: 0.9681 - val_binary_crossentropy: 0.1143\n",
      "Epoch 15/50\n",
      "250/250 [==============================] - 91s 365ms/step - loss: 0.0158 - acc: 0.9943 - binary_crossentropy: 0.0158 - val_loss: 0.1429 - val_acc: 0.9660 - val_binary_crossentropy: 0.1429\n",
      "Epoch 16/50\n",
      "250/250 [==============================] - 96s 383ms/step - loss: 0.0153 - acc: 0.9945 - binary_crossentropy: 0.0153 - val_loss: 0.1192 - val_acc: 0.9708 - val_binary_crossentropy: 0.1192\n",
      "Epoch 17/50\n",
      "250/250 [==============================] - 92s 368ms/step - loss: 0.0131 - acc: 0.9953 - binary_crossentropy: 0.0131 - val_loss: 0.1386 - val_acc: 0.9678 - val_binary_crossentropy: 0.1386\n",
      "Epoch 18/50\n",
      "250/250 [==============================] - 91s 364ms/step - loss: 0.0128 - acc: 0.9955 - binary_crossentropy: 0.0128 - val_loss: 0.1176 - val_acc: 0.9708 - val_binary_crossentropy: 0.1176\n",
      "Epoch 19/50\n",
      "250/250 [==============================] - 92s 367ms/step - loss: 0.0125 - acc: 0.9952 - binary_crossentropy: 0.0125 - val_loss: 0.1308 - val_acc: 0.9644 - val_binary_crossentropy: 0.1308\n",
      "Epoch 20/50\n",
      "250/250 [==============================] - 92s 368ms/step - loss: 0.0103 - acc: 0.9961 - binary_crossentropy: 0.0103 - val_loss: 0.1212 - val_acc: 0.9704 - val_binary_crossentropy: 0.1212\n",
      "Epoch 21/50\n",
      "250/250 [==============================] - 91s 366ms/step - loss: 0.0106 - acc: 0.9957 - binary_crossentropy: 0.0106 - val_loss: 0.1289 - val_acc: 0.9701 - val_binary_crossentropy: 0.1289\n",
      "Epoch 22/50\n",
      "250/250 [==============================] - 91s 365ms/step - loss: 0.0098 - acc: 0.9961 - binary_crossentropy: 0.0098 - val_loss: 0.1409 - val_acc: 0.9669 - val_binary_crossentropy: 0.1409\n",
      "Epoch 23/50\n",
      "250/250 [==============================] - 91s 365ms/step - loss: 0.0097 - acc: 0.9960 - binary_crossentropy: 0.0097 - val_loss: 0.1360 - val_acc: 0.9690 - val_binary_crossentropy: 0.1360\n",
      "Epoch 24/50\n",
      "250/250 [==============================] - 92s 366ms/step - loss: 0.0088 - acc: 0.9965 - binary_crossentropy: 0.0088 - val_loss: 0.1492 - val_acc: 0.9699 - val_binary_crossentropy: 0.1492\n",
      "Epoch 25/50\n",
      "250/250 [==============================] - 92s 367ms/step - loss: 0.0080 - acc: 0.9971 - binary_crossentropy: 0.0080 - val_loss: 0.1480 - val_acc: 0.9683 - val_binary_crossentropy: 0.1480\n",
      "Epoch 26/50\n",
      "250/250 [==============================] - 92s 368ms/step - loss: 0.0093 - acc: 0.9962 - binary_crossentropy: 0.0093 - val_loss: 0.1456 - val_acc: 0.9694 - val_binary_crossentropy: 0.1456\n",
      "Epoch 27/50\n",
      "250/250 [==============================] - 93s 371ms/step - loss: 0.0089 - acc: 0.9963 - binary_crossentropy: 0.0089 - val_loss: 0.1496 - val_acc: 0.9657 - val_binary_crossentropy: 0.1496\n",
      "Epoch 28/50\n",
      "250/250 [==============================] - 94s 376ms/step - loss: 0.0079 - acc: 0.9968 - binary_crossentropy: 0.0079 - val_loss: 0.1651 - val_acc: 0.9670 - val_binary_crossentropy: 0.1651\n",
      "Epoch 29/50\n",
      "250/250 [==============================] - 93s 373ms/step - loss: 0.0066 - acc: 0.9973 - binary_crossentropy: 0.0066 - val_loss: 0.1471 - val_acc: 0.9661 - val_binary_crossentropy: 0.1471\n",
      "Epoch 30/50\n",
      "250/250 [==============================] - 90s 361ms/step - loss: 0.0069 - acc: 0.9971 - binary_crossentropy: 0.0069 - val_loss: 0.1497 - val_acc: 0.9693 - val_binary_crossentropy: 0.1497\n",
      "Epoch 31/50\n",
      "250/250 [==============================] - 91s 363ms/step - loss: 0.0071 - acc: 0.9973 - binary_crossentropy: 0.0071 - val_loss: 0.1593 - val_acc: 0.9666 - val_binary_crossentropy: 0.1593\n",
      "Epoch 32/50\n",
      "250/250 [==============================] - 91s 365ms/step - loss: 0.0070 - acc: 0.9973 - binary_crossentropy: 0.0070 - val_loss: 0.1606 - val_acc: 0.9643 - val_binary_crossentropy: 0.1606\n",
      "Epoch 33/50\n",
      "250/250 [==============================] - 91s 363ms/step - loss: 0.0069 - acc: 0.9975 - binary_crossentropy: 0.0069 - val_loss: 0.1393 - val_acc: 0.9716 - val_binary_crossentropy: 0.1393\n"
     ]
    },
    {
     "name": "stdout",
     "output_type": "stream",
     "text": [
      "Epoch 34/50\n",
      "250/250 [==============================] - 91s 365ms/step - loss: 0.0067 - acc: 0.9973 - binary_crossentropy: 0.0067 - val_loss: 0.1682 - val_acc: 0.9643 - val_binary_crossentropy: 0.1682\n",
      "Epoch 35/50\n",
      "250/250 [==============================] - 91s 362ms/step - loss: 0.0064 - acc: 0.9977 - binary_crossentropy: 0.0064 - val_loss: 0.1395 - val_acc: 0.9732 - val_binary_crossentropy: 0.1395\n",
      "Epoch 36/50\n",
      "250/250 [==============================] - 91s 363ms/step - loss: 0.0069 - acc: 0.9970 - binary_crossentropy: 0.0069 - val_loss: 0.1660 - val_acc: 0.9667 - val_binary_crossentropy: 0.1660\n",
      "Epoch 37/50\n",
      "250/250 [==============================] - 92s 369ms/step - loss: 0.0068 - acc: 0.9973 - binary_crossentropy: 0.0068 - val_loss: 0.1571 - val_acc: 0.9673 - val_binary_crossentropy: 0.1571\n",
      "Epoch 38/50\n",
      "250/250 [==============================] - 91s 365ms/step - loss: 0.0065 - acc: 0.9971 - binary_crossentropy: 0.0065 - val_loss: 0.1693 - val_acc: 0.9671 - val_binary_crossentropy: 0.1693\n",
      "Epoch 39/50\n",
      "250/250 [==============================] - 91s 362ms/step - loss: 0.0063 - acc: 0.9973 - binary_crossentropy: 0.0063 - val_loss: 0.1719 - val_acc: 0.9635 - val_binary_crossentropy: 0.1719\n",
      "Epoch 40/50\n",
      "250/250 [==============================] - 90s 360ms/step - loss: 0.0062 - acc: 0.9972 - binary_crossentropy: 0.0062 - val_loss: 0.1598 - val_acc: 0.9675 - val_binary_crossentropy: 0.1598\n",
      "Epoch 41/50\n",
      "250/250 [==============================] - 90s 362ms/step - loss: 0.0057 - acc: 0.9975 - binary_crossentropy: 0.0057 - val_loss: 0.1580 - val_acc: 0.9683 - val_binary_crossentropy: 0.1580\n",
      "Epoch 42/50\n",
      "250/250 [==============================] - 90s 361ms/step - loss: 0.0057 - acc: 0.9975 - binary_crossentropy: 0.0057 - val_loss: 0.1500 - val_acc: 0.9733 - val_binary_crossentropy: 0.1500\n",
      "Epoch 43/50\n",
      "250/250 [==============================] - 90s 361ms/step - loss: 0.0056 - acc: 0.9979 - binary_crossentropy: 0.0056 - val_loss: 0.1610 - val_acc: 0.9685 - val_binary_crossentropy: 0.1610\n",
      "Epoch 44/50\n",
      "250/250 [==============================] - 91s 362ms/step - loss: 0.0070 - acc: 0.9973 - binary_crossentropy: 0.0070 - val_loss: 0.1501 - val_acc: 0.9703 - val_binary_crossentropy: 0.1501\n",
      "Epoch 45/50\n",
      "250/250 [==============================] - 90s 361ms/step - loss: 0.0063 - acc: 0.9971 - binary_crossentropy: 0.0063 - val_loss: 0.1578 - val_acc: 0.9692 - val_binary_crossentropy: 0.1578\n",
      "Epoch 46/50\n",
      "250/250 [==============================] - 91s 363ms/step - loss: 0.0057 - acc: 0.9978 - binary_crossentropy: 0.0057 - val_loss: 0.1757 - val_acc: 0.9646 - val_binary_crossentropy: 0.1757\n",
      "Epoch 47/50\n",
      "250/250 [==============================] - 91s 363ms/step - loss: 0.0056 - acc: 0.9975 - binary_crossentropy: 0.0056 - val_loss: 0.1503 - val_acc: 0.9696 - val_binary_crossentropy: 0.1503\n",
      "Epoch 48/50\n",
      "250/250 [==============================] - 90s 361ms/step - loss: 0.0050 - acc: 0.9977 - binary_crossentropy: 0.0050 - val_loss: 0.1543 - val_acc: 0.9713 - val_binary_crossentropy: 0.1543\n",
      "Epoch 49/50\n",
      "250/250 [==============================] - 91s 364ms/step - loss: 0.0051 - acc: 0.9979 - binary_crossentropy: 0.0051 - val_loss: 0.1833 - val_acc: 0.9677 - val_binary_crossentropy: 0.1833\n",
      "Epoch 50/50\n",
      "250/250 [==============================] - 90s 361ms/step - loss: 0.0048 - acc: 0.9981 - binary_crossentropy: 0.0048 - val_loss: 0.1662 - val_acc: 0.9694 - val_binary_crossentropy: 0.1662\n",
      "[INFO] serializing network...\n"
     ]
    }
   ],
   "source": [
    "print(\"[INFO] compiling model...\")\n",
    "opt = SGD(lr=1e-4, momentum=0.9)\n",
    "final_model.compile(loss=\"binary_crossentropy\", optimizer=opt,\n",
    "\tmetrics=[\"accuracy\",\"binary_crossentropy\"])\n",
    "\n",
    "\n",
    "#Model Fitting\n",
    "callbacks = TensorBoard(log_dir='.\\\\Graph\\\\VGG16')\n",
    "H = final_model.fit_generator(\n",
    "\ttrain_generator,\n",
    "\tsteps_per_epoch=train_samples // batch_size,\n",
    "\tvalidation_data=validation_generator,\n",
    "\tvalidation_steps=validation_samples // batch_size,\n",
    "\tepochs=epochs,\n",
    "    callbacks=[callbacks])\n",
    "\n",
    "print(\"[INFO] serializing network...\")\n",
    "final_model.save(\"VGG16.h5\")"
   ]
  },
  {
   "cell_type": "code",
   "execution_count": 9,
   "metadata": {},
   "outputs": [
    {
     "name": "stdout",
     "output_type": "stream",
     "text": [
      "Found 134 images belonging to 10 classes.\n"
     ]
    }
   ],
   "source": [
    "image_test_generator = ImageDataGenerator(rescale=1. / 255)\n",
    "\n",
    "testing_generator = image_test_generator.flow_from_directory(\n",
    "    datatest,\n",
    "    target_size=(img_height, img_width),\n",
    "    batch_size=batch_size,\n",
    "    class_mode='categorical',\n",
    "    shuffle=False\n",
    "    )"
   ]
  },
  {
   "cell_type": "code",
   "execution_count": 10,
   "metadata": {},
   "outputs": [
    {
     "data": {
      "text/plain": [
       "[0.18898979452118944, 0.9656716460612282, 0.18898979452118944]"
      ]
     },
     "execution_count": 10,
     "metadata": {},
     "output_type": "execute_result"
    }
   ],
   "source": [
    "final_model.evaluate_generator(testing_generator,steps= 134 // batch_size+1,workers=12)\n"
   ]
  },
  {
   "cell_type": "code",
   "execution_count": 11,
   "metadata": {},
   "outputs": [],
   "source": [
    "testing_generator.reset()\n",
    "Y_pred = final_model.predict_generator(testing_generator, 134 // batch_size+1,workers=12)"
   ]
  },
  {
   "cell_type": "code",
   "execution_count": 12,
   "metadata": {},
   "outputs": [
    {
     "name": "stdout",
     "output_type": "stream",
     "text": [
      "Confusion Matrix\n",
      "[[14  0  0  0  0  1  0  0  0  0]\n",
      " [ 0 15  0  0  0  0  0  0  0  0]\n",
      " [ 0  0  2  0  0  2  0  0  0  0]\n",
      " [ 0  1  0 14  1  0  0  0  0  0]\n",
      " [ 0  0  0  0 10  0  0  1  1  0]\n",
      " [ 2  0  0  1  0 13  1  1  0  0]\n",
      " [ 0  0  0  0  0  0 14  0  0  0]\n",
      " [ 0  3  0  0  0  0  0  9  0  0]\n",
      " [ 1  0  0  0  0  0  1  3 11  0]\n",
      " [ 1  0  0  0  0  0  0  0  2  9]]\n"
     ]
    }
   ],
   "source": [
    "y_pred = np.argmax(Y_pred, axis=-1)\n",
    "print('Confusion Matrix')\n",
    "print(confusion_matrix(testing_generator.classes, y_pred))"
   ]
  },
  {
   "cell_type": "code",
   "execution_count": 13,
   "metadata": {},
   "outputs": [
    {
     "name": "stdout",
     "output_type": "stream",
     "text": [
      "Classification Report\n",
      "                   precision    recall  f1-score   support\n",
      "\n",
      "     Batik Kawung       0.78      0.93      0.85        15\n",
      "Batik Megamendung       0.79      1.00      0.88        15\n",
      "      Batik Nitik       1.00      0.50      0.67         4\n",
      "     Batik Parang       0.93      0.88      0.90        16\n",
      " Batik Sido Luhur       0.91      0.83      0.87        12\n",
      "    Batik Truntum       0.81      0.72      0.76        18\n",
      " Batik Udan Liris       0.88      1.00      0.93        14\n",
      "      Batik Gedok       0.64      0.75      0.69        12\n",
      "     Batik Ceplok       0.79      0.69      0.73        16\n",
      "     Batik Tambal       1.00      0.75      0.86        12\n",
      "\n",
      "         accuracy                           0.83       134\n",
      "        macro avg       0.85      0.81      0.82       134\n",
      "     weighted avg       0.84      0.83      0.83       134\n",
      "\n"
     ]
    }
   ],
   "source": [
    "batik_index = ['Batik Kawung','Batik Megamendung','Batik Nitik','Batik Parang','Batik Sido Luhur','Batik Truntum','Batik Udan Liris','Batik Gedok','Batik Ceplok','Batik Tambal']\n",
    "print('Classification Report')\n",
    "print(classification_report(testing_generator.classes, y_pred, target_names=batik_index))"
   ]
  },
  {
   "cell_type": "code",
   "execution_count": 165,
   "metadata": {},
   "outputs": [],
   "source": [
    "from keras.models import load_model"
   ]
  },
  {
   "cell_type": "code",
   "execution_count": 166,
   "metadata": {},
   "outputs": [],
   "source": [
    "loaded_model = load_model(\"MobileNetV2.h5\")"
   ]
  },
  {
   "cell_type": "code",
   "execution_count": 168,
   "metadata": {},
   "outputs": [
    {
     "data": {
      "text/plain": [
       "[0.1276068142545757, 0.9529850625280124, 0.1276068142545757]"
      ]
     },
     "execution_count": 168,
     "metadata": {},
     "output_type": "execute_result"
    }
   ],
   "source": [
    "testing_generator.reset()\n",
    "loaded_model.evaluate_generator(testing_generator,steps= 134 // batch_size+1,workers=12)"
   ]
  },
  {
   "cell_type": "code",
   "execution_count": 169,
   "metadata": {},
   "outputs": [],
   "source": [
    "testing_generator.reset()\n",
    "Y_pred = final_model.predict_generator(testing_generator, 134 // batch_size+1,workers=12)\n"
   ]
  },
  {
   "cell_type": "code",
   "execution_count": 170,
   "metadata": {},
   "outputs": [
    {
     "name": "stdout",
     "output_type": "stream",
     "text": [
      "Confusion Matrix\n",
      "[[11  0  0  0  1  2  0  0  1  0]\n",
      " [ 0 14  0  0  0  0  0  0  1  0]\n",
      " [ 0  0  2  0  0  2  0  0  0  0]\n",
      " [ 1  0  0 10  0  3  2  0  0  0]\n",
      " [ 0  1  0  0  8  1  1  0  1  0]\n",
      " [ 0  1  0  1  0 14  1  0  1  0]\n",
      " [ 0  1  0  0  0  0 13  0  0  0]\n",
      " [ 0  0  0  0  0  2  1  8  1  0]\n",
      " [ 1  0  1  0  1  2  1  1  9  0]\n",
      " [ 0  0  0  0  0  1  0  0  1 10]]\n"
     ]
    }
   ],
   "source": [
    "y_pred = np.argmax(Y_pred, axis=-1)\n",
    "print('Confusion Matrix')\n",
    "print(confusion_matrix(testing_generator.classes, y_pred))"
   ]
  },
  {
   "cell_type": "code",
   "execution_count": 172,
   "metadata": {},
   "outputs": [
    {
     "name": "stdout",
     "output_type": "stream",
     "text": [
      "Classification Report\n",
      "                   precision    recall  f1-score   support\n",
      "\n",
      "     Batik Kawung       0.85      0.73      0.79        15\n",
      "Batik Megamendung       0.82      0.93      0.87        15\n",
      "      Batik Nitik       0.67      0.50      0.57         4\n",
      "     Batik Parang       0.91      0.62      0.74        16\n",
      " Batik Sido Luhur       0.80      0.67      0.73        12\n",
      "    Batik Truntum       0.52      0.78      0.62        18\n",
      " Batik Udan Liris       0.68      0.93      0.79        14\n",
      "      Batik Gedok       0.89      0.67      0.76        12\n",
      "     Batik Ceplok       0.60      0.56      0.58        16\n",
      "     Batik Tambal       1.00      0.83      0.91        12\n",
      "\n",
      "         accuracy                           0.74       134\n",
      "        macro avg       0.77      0.72      0.74       134\n",
      "     weighted avg       0.77      0.74      0.74       134\n",
      "\n"
     ]
    }
   ],
   "source": [
    "batik_index = ['Batik Kawung','Batik Megamendung','Batik Nitik','Batik Parang','Batik Sido Luhur','Batik Truntum','Batik Udan Liris','Batik Gedok','Batik Ceplok','Batik Tambal']\n",
    "print('Classification Report')\n",
    "print(classification_report(testing_generator.classes, y_pred, target_names=batik_index))"
   ]
  }
 ],
 "metadata": {
  "kernelspec": {
   "display_name": "Python 3",
   "language": "python",
   "name": "python3"
  },
  "language_info": {
   "codemirror_mode": {
    "name": "ipython",
    "version": 3
   },
   "file_extension": ".py",
   "mimetype": "text/x-python",
   "name": "python",
   "nbconvert_exporter": "python",
   "pygments_lexer": "ipython3",
   "version": "3.6.3"
  }
 },
 "nbformat": 4,
 "nbformat_minor": 2
}
